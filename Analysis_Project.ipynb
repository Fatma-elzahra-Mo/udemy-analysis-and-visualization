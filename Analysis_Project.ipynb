{
  "nbformat": 4,
  "nbformat_minor": 0,
  "metadata": {
    "colab": {
      "name": "Analysis Project.ipynb",
      "provenance": [],
      "collapsed_sections": []
    },
    "kernelspec": {
      "display_name": "Python 3",
      "name": "python3"
    },
    "language_info": {
      "name": "python"
    }
  },
  "cells": [
    {
      "cell_type": "code",
      "metadata": {
        "id": "UQxa1At6M-Th"
      },
      "source": [
        "import seaborn as sns\n",
        "import numpy as np\n",
        "import pandas as pd\n",
        "%matplotlib inline\n",
        "sns.set(rc={'figure.figsize': [9, 9]}, font_scale=1.2)"
      ],
      "execution_count": null,
      "outputs": []
    },
    {
      "cell_type": "code",
      "metadata": {
        "id": "QN77gbw5NNV3"
      },
      "source": [
        "df_udemy = pd.read_csv('udemy_courses.csv')"
      ],
      "execution_count": null,
      "outputs": []
    },
    {
      "cell_type": "code",
      "metadata": {
        "colab": {
          "base_uri": "https://localhost:8080/",
          "height": 1000
        },
        "id": "Y-tzZgdYNRwq",
        "outputId": "d6edc8bd-6ebc-4f07-c558-62e24906d9f7"
      },
      "source": [
        "df_udemy"
      ],
      "execution_count": null,
      "outputs": [
        {
          "data": {
            "text/html": [
              "<div>\n",
              "<style scoped>\n",
              "    .dataframe tbody tr th:only-of-type {\n",
              "        vertical-align: middle;\n",
              "    }\n",
              "\n",
              "    .dataframe tbody tr th {\n",
              "        vertical-align: top;\n",
              "    }\n",
              "\n",
              "    .dataframe thead th {\n",
              "        text-align: right;\n",
              "    }\n",
              "</style>\n",
              "<table border=\"1\" class=\"dataframe\">\n",
              "  <thead>\n",
              "    <tr style=\"text-align: right;\">\n",
              "      <th></th>\n",
              "      <th>course_id</th>\n",
              "      <th>course_title</th>\n",
              "      <th>url</th>\n",
              "      <th>is_paid</th>\n",
              "      <th>price</th>\n",
              "      <th>num_subscribers</th>\n",
              "      <th>num_reviews</th>\n",
              "      <th>num_lectures</th>\n",
              "      <th>level</th>\n",
              "      <th>content_duration</th>\n",
              "      <th>published_timestamp</th>\n",
              "      <th>subject</th>\n",
              "    </tr>\n",
              "  </thead>\n",
              "  <tbody>\n",
              "    <tr>\n",
              "      <th>0</th>\n",
              "      <td>1070968</td>\n",
              "      <td>Ultimate Investment Banking Course</td>\n",
              "      <td>https://www.udemy.com/ultimate-investment-bank...</td>\n",
              "      <td>True</td>\n",
              "      <td>200</td>\n",
              "      <td>2147</td>\n",
              "      <td>23</td>\n",
              "      <td>51</td>\n",
              "      <td>All Levels</td>\n",
              "      <td>1.5</td>\n",
              "      <td>2017-01-18T20:58:58Z</td>\n",
              "      <td>Business Finance</td>\n",
              "    </tr>\n",
              "    <tr>\n",
              "      <th>1</th>\n",
              "      <td>1113822</td>\n",
              "      <td>Complete GST Course &amp; Certification - Grow You...</td>\n",
              "      <td>https://www.udemy.com/goods-and-services-tax/</td>\n",
              "      <td>True</td>\n",
              "      <td>75</td>\n",
              "      <td>2792</td>\n",
              "      <td>923</td>\n",
              "      <td>274</td>\n",
              "      <td>All Levels</td>\n",
              "      <td>39.0</td>\n",
              "      <td>2017-03-09T16:34:20Z</td>\n",
              "      <td>Business Finance</td>\n",
              "    </tr>\n",
              "    <tr>\n",
              "      <th>2</th>\n",
              "      <td>1006314</td>\n",
              "      <td>Financial Modeling for Business Analysts and C...</td>\n",
              "      <td>https://www.udemy.com/financial-modeling-for-b...</td>\n",
              "      <td>True</td>\n",
              "      <td>45</td>\n",
              "      <td>2174</td>\n",
              "      <td>74</td>\n",
              "      <td>51</td>\n",
              "      <td>Intermediate Level</td>\n",
              "      <td>2.5</td>\n",
              "      <td>2016-12-19T19:26:30Z</td>\n",
              "      <td>Business Finance</td>\n",
              "    </tr>\n",
              "    <tr>\n",
              "      <th>3</th>\n",
              "      <td>1210588</td>\n",
              "      <td>Beginner to Pro - Financial Analysis in Excel ...</td>\n",
              "      <td>https://www.udemy.com/complete-excel-finance-c...</td>\n",
              "      <td>True</td>\n",
              "      <td>95</td>\n",
              "      <td>2451</td>\n",
              "      <td>11</td>\n",
              "      <td>36</td>\n",
              "      <td>All Levels</td>\n",
              "      <td>3.0</td>\n",
              "      <td>2017-05-30T20:07:24Z</td>\n",
              "      <td>Business Finance</td>\n",
              "    </tr>\n",
              "    <tr>\n",
              "      <th>4</th>\n",
              "      <td>1011058</td>\n",
              "      <td>How To Maximize Your Profits Trading Options</td>\n",
              "      <td>https://www.udemy.com/how-to-maximize-your-pro...</td>\n",
              "      <td>True</td>\n",
              "      <td>200</td>\n",
              "      <td>1276</td>\n",
              "      <td>45</td>\n",
              "      <td>26</td>\n",
              "      <td>Intermediate Level</td>\n",
              "      <td>2.0</td>\n",
              "      <td>2016-12-13T14:57:18Z</td>\n",
              "      <td>Business Finance</td>\n",
              "    </tr>\n",
              "    <tr>\n",
              "      <th>...</th>\n",
              "      <td>...</td>\n",
              "      <td>...</td>\n",
              "      <td>...</td>\n",
              "      <td>...</td>\n",
              "      <td>...</td>\n",
              "      <td>...</td>\n",
              "      <td>...</td>\n",
              "      <td>...</td>\n",
              "      <td>...</td>\n",
              "      <td>...</td>\n",
              "      <td>...</td>\n",
              "      <td>...</td>\n",
              "    </tr>\n",
              "    <tr>\n",
              "      <th>3673</th>\n",
              "      <td>775618</td>\n",
              "      <td>Learn jQuery from Scratch - Master of JavaScri...</td>\n",
              "      <td>https://www.udemy.com/easy-jquery-for-beginner...</td>\n",
              "      <td>True</td>\n",
              "      <td>100</td>\n",
              "      <td>1040</td>\n",
              "      <td>14</td>\n",
              "      <td>21</td>\n",
              "      <td>All Levels</td>\n",
              "      <td>2.0</td>\n",
              "      <td>2016-06-14T17:36:46Z</td>\n",
              "      <td>Web Development</td>\n",
              "    </tr>\n",
              "    <tr>\n",
              "      <th>3674</th>\n",
              "      <td>1088178</td>\n",
              "      <td>How To Design A WordPress Website With No Codi...</td>\n",
              "      <td>https://www.udemy.com/how-to-make-a-wordpress-...</td>\n",
              "      <td>True</td>\n",
              "      <td>25</td>\n",
              "      <td>306</td>\n",
              "      <td>3</td>\n",
              "      <td>42</td>\n",
              "      <td>Beginner Level</td>\n",
              "      <td>3.5</td>\n",
              "      <td>2017-03-10T22:24:30Z</td>\n",
              "      <td>Web Development</td>\n",
              "    </tr>\n",
              "    <tr>\n",
              "      <th>3675</th>\n",
              "      <td>635248</td>\n",
              "      <td>Learn and Build using Polymer</td>\n",
              "      <td>https://www.udemy.com/learn-and-build-using-po...</td>\n",
              "      <td>True</td>\n",
              "      <td>40</td>\n",
              "      <td>513</td>\n",
              "      <td>169</td>\n",
              "      <td>48</td>\n",
              "      <td>All Levels</td>\n",
              "      <td>3.5</td>\n",
              "      <td>2015-12-30T16:41:42Z</td>\n",
              "      <td>Web Development</td>\n",
              "    </tr>\n",
              "    <tr>\n",
              "      <th>3676</th>\n",
              "      <td>905096</td>\n",
              "      <td>CSS Animations: Create Amazing Effects on Your...</td>\n",
              "      <td>https://www.udemy.com/css-animations-create-am...</td>\n",
              "      <td>True</td>\n",
              "      <td>50</td>\n",
              "      <td>300</td>\n",
              "      <td>31</td>\n",
              "      <td>38</td>\n",
              "      <td>All Levels</td>\n",
              "      <td>3.0</td>\n",
              "      <td>2016-08-11T19:06:15Z</td>\n",
              "      <td>Web Development</td>\n",
              "    </tr>\n",
              "    <tr>\n",
              "      <th>3677</th>\n",
              "      <td>297602</td>\n",
              "      <td>Using MODX CMS to Build Websites: A Beginner's...</td>\n",
              "      <td>https://www.udemy.com/using-modx-cms-to-build-...</td>\n",
              "      <td>True</td>\n",
              "      <td>45</td>\n",
              "      <td>901</td>\n",
              "      <td>36</td>\n",
              "      <td>20</td>\n",
              "      <td>Beginner Level</td>\n",
              "      <td>2.0</td>\n",
              "      <td>2014-09-28T19:51:11Z</td>\n",
              "      <td>Web Development</td>\n",
              "    </tr>\n",
              "  </tbody>\n",
              "</table>\n",
              "<p>3678 rows × 12 columns</p>\n",
              "</div>"
            ],
            "text/plain": [
              "      course_id  ...           subject\n",
              "0       1070968  ...  Business Finance\n",
              "1       1113822  ...  Business Finance\n",
              "2       1006314  ...  Business Finance\n",
              "3       1210588  ...  Business Finance\n",
              "4       1011058  ...  Business Finance\n",
              "...         ...  ...               ...\n",
              "3673     775618  ...   Web Development\n",
              "3674    1088178  ...   Web Development\n",
              "3675     635248  ...   Web Development\n",
              "3676     905096  ...   Web Development\n",
              "3677     297602  ...   Web Development\n",
              "\n",
              "[3678 rows x 12 columns]"
            ]
          },
          "execution_count": 61,
          "metadata": {},
          "output_type": "execute_result"
        }
      ]
    },
    {
      "cell_type": "code",
      "metadata": {
        "colab": {
          "base_uri": "https://localhost:8080/"
        },
        "id": "SuPo9EqxNzrq",
        "outputId": "a889fe96-8fcf-4529-8fea-9be91fcf073c"
      },
      "source": [
        "df_udemy.info()"
      ],
      "execution_count": null,
      "outputs": [
        {
          "name": "stdout",
          "output_type": "stream",
          "text": [
            "<class 'pandas.core.frame.DataFrame'>\n",
            "RangeIndex: 3678 entries, 0 to 3677\n",
            "Data columns (total 12 columns):\n",
            " #   Column               Non-Null Count  Dtype  \n",
            "---  ------               --------------  -----  \n",
            " 0   course_id            3678 non-null   int64  \n",
            " 1   course_title         3678 non-null   object \n",
            " 2   url                  3678 non-null   object \n",
            " 3   is_paid              3678 non-null   bool   \n",
            " 4   price                3678 non-null   int64  \n",
            " 5   num_subscribers      3678 non-null   int64  \n",
            " 6   num_reviews          3678 non-null   int64  \n",
            " 7   num_lectures         3678 non-null   int64  \n",
            " 8   level                3678 non-null   object \n",
            " 9   content_duration     3678 non-null   float64\n",
            " 10  published_timestamp  3678 non-null   object \n",
            " 11  subject              3678 non-null   object \n",
            "dtypes: bool(1), float64(1), int64(5), object(5)\n",
            "memory usage: 319.8+ KB\n"
          ]
        }
      ]
    },
    {
      "cell_type": "code",
      "metadata": {
        "colab": {
          "base_uri": "https://localhost:8080/",
          "height": 312
        },
        "id": "Yrhhtxc5W9V1",
        "outputId": "cb8f6ab1-cc52-4211-9362-22d097d2f6a4"
      },
      "source": [
        "df_udemy.describe()"
      ],
      "execution_count": null,
      "outputs": [
        {
          "data": {
            "text/html": [
              "<div>\n",
              "<style scoped>\n",
              "    .dataframe tbody tr th:only-of-type {\n",
              "        vertical-align: middle;\n",
              "    }\n",
              "\n",
              "    .dataframe tbody tr th {\n",
              "        vertical-align: top;\n",
              "    }\n",
              "\n",
              "    .dataframe thead th {\n",
              "        text-align: right;\n",
              "    }\n",
              "</style>\n",
              "<table border=\"1\" class=\"dataframe\">\n",
              "  <thead>\n",
              "    <tr style=\"text-align: right;\">\n",
              "      <th></th>\n",
              "      <th>course_id</th>\n",
              "      <th>price</th>\n",
              "      <th>num_subscribers</th>\n",
              "      <th>num_reviews</th>\n",
              "      <th>num_lectures</th>\n",
              "      <th>content_duration</th>\n",
              "    </tr>\n",
              "  </thead>\n",
              "  <tbody>\n",
              "    <tr>\n",
              "      <th>count</th>\n",
              "      <td>3.678000e+03</td>\n",
              "      <td>3678.000000</td>\n",
              "      <td>3678.000000</td>\n",
              "      <td>3678.000000</td>\n",
              "      <td>3678.000000</td>\n",
              "      <td>3678.000000</td>\n",
              "    </tr>\n",
              "    <tr>\n",
              "      <th>mean</th>\n",
              "      <td>6.759720e+05</td>\n",
              "      <td>66.049483</td>\n",
              "      <td>3197.150625</td>\n",
              "      <td>156.259108</td>\n",
              "      <td>40.108755</td>\n",
              "      <td>4.094517</td>\n",
              "    </tr>\n",
              "    <tr>\n",
              "      <th>std</th>\n",
              "      <td>3.432732e+05</td>\n",
              "      <td>61.005755</td>\n",
              "      <td>9504.117010</td>\n",
              "      <td>935.452044</td>\n",
              "      <td>50.383346</td>\n",
              "      <td>6.053840</td>\n",
              "    </tr>\n",
              "    <tr>\n",
              "      <th>min</th>\n",
              "      <td>8.324000e+03</td>\n",
              "      <td>0.000000</td>\n",
              "      <td>0.000000</td>\n",
              "      <td>0.000000</td>\n",
              "      <td>0.000000</td>\n",
              "      <td>0.000000</td>\n",
              "    </tr>\n",
              "    <tr>\n",
              "      <th>25%</th>\n",
              "      <td>4.076925e+05</td>\n",
              "      <td>20.000000</td>\n",
              "      <td>111.000000</td>\n",
              "      <td>4.000000</td>\n",
              "      <td>15.000000</td>\n",
              "      <td>1.000000</td>\n",
              "    </tr>\n",
              "    <tr>\n",
              "      <th>50%</th>\n",
              "      <td>6.879170e+05</td>\n",
              "      <td>45.000000</td>\n",
              "      <td>911.500000</td>\n",
              "      <td>18.000000</td>\n",
              "      <td>25.000000</td>\n",
              "      <td>2.000000</td>\n",
              "    </tr>\n",
              "    <tr>\n",
              "      <th>75%</th>\n",
              "      <td>9.613555e+05</td>\n",
              "      <td>95.000000</td>\n",
              "      <td>2546.000000</td>\n",
              "      <td>67.000000</td>\n",
              "      <td>45.750000</td>\n",
              "      <td>4.500000</td>\n",
              "    </tr>\n",
              "    <tr>\n",
              "      <th>max</th>\n",
              "      <td>1.282064e+06</td>\n",
              "      <td>200.000000</td>\n",
              "      <td>268923.000000</td>\n",
              "      <td>27445.000000</td>\n",
              "      <td>779.000000</td>\n",
              "      <td>78.500000</td>\n",
              "    </tr>\n",
              "  </tbody>\n",
              "</table>\n",
              "</div>"
            ],
            "text/plain": [
              "          course_id        price  ...  num_lectures  content_duration\n",
              "count  3.678000e+03  3678.000000  ...   3678.000000       3678.000000\n",
              "mean   6.759720e+05    66.049483  ...     40.108755          4.094517\n",
              "std    3.432732e+05    61.005755  ...     50.383346          6.053840\n",
              "min    8.324000e+03     0.000000  ...      0.000000          0.000000\n",
              "25%    4.076925e+05    20.000000  ...     15.000000          1.000000\n",
              "50%    6.879170e+05    45.000000  ...     25.000000          2.000000\n",
              "75%    9.613555e+05    95.000000  ...     45.750000          4.500000\n",
              "max    1.282064e+06   200.000000  ...    779.000000         78.500000\n",
              "\n",
              "[8 rows x 6 columns]"
            ]
          },
          "execution_count": 63,
          "metadata": {},
          "output_type": "execute_result"
        }
      ]
    },
    {
      "cell_type": "code",
      "metadata": {
        "colab": {
          "base_uri": "https://localhost:8080/"
        },
        "id": "spNLG3M6OCcd",
        "outputId": "4e19ec92-a09e-4c8b-e07d-c4c13c60d8c5"
      },
      "source": [
        "df_udemy.columns"
      ],
      "execution_count": null,
      "outputs": [
        {
          "data": {
            "text/plain": [
              "Index(['course_id', 'course_title', 'url', 'is_paid', 'price',\n",
              "       'num_subscribers', 'num_reviews', 'num_lectures', 'level',\n",
              "       'content_duration', 'published_timestamp', 'subject'],\n",
              "      dtype='object')"
            ]
          },
          "execution_count": 64,
          "metadata": {},
          "output_type": "execute_result"
        }
      ]
    },
    {
      "cell_type": "code",
      "metadata": {
        "colab": {
          "base_uri": "https://localhost:8080/"
        },
        "id": "n2SnhvUkORNJ",
        "outputId": "fccad255-00a7-41cd-8a28-d848d794255b"
      },
      "source": [
        "df_udemy['course_id'].value_counts() #series"
      ],
      "execution_count": null,
      "outputs": [
        {
          "data": {
            "text/plain": [
              "185526     2\n",
              "1084454    2\n",
              "837322     2\n",
              "28295      2\n",
              "1035638    2\n",
              "          ..\n",
              "294408     1\n",
              "577256     1\n",
              "783748     1\n",
              "128384     1\n",
              "933888     1\n",
              "Name: course_id, Length: 3672, dtype: int64"
            ]
          },
          "execution_count": 65,
          "metadata": {},
          "output_type": "execute_result"
        }
      ]
    },
    {
      "cell_type": "code",
      "metadata": {
        "colab": {
          "base_uri": "https://localhost:8080/"
        },
        "id": "57cSMcpqObOd",
        "outputId": "5fd41b2f-07c5-4ba3-a9c6-b24eb99b9bf0"
      },
      "source": [
        "df_udemy['course_id'].value_counts().head(6)"
      ],
      "execution_count": null,
      "outputs": [
        {
          "data": {
            "text/plain": [
              "185526     2\n",
              "1084454    2\n",
              "837322     2\n",
              "28295      2\n",
              "1035638    2\n",
              "1157298    2\n",
              "Name: course_id, dtype: int64"
            ]
          },
          "execution_count": 66,
          "metadata": {},
          "output_type": "execute_result"
        }
      ]
    },
    {
      "cell_type": "markdown",
      "metadata": {
        "id": "3iWIcfiKWnsE"
      },
      "source": [
        "### From Course ID, we understand that we have duplicate"
      ]
    },
    {
      "cell_type": "code",
      "metadata": {
        "colab": {
          "base_uri": "https://localhost:8080/"
        },
        "id": "WSOrLvZ5PCtG",
        "outputId": "9b341316-cc0e-4f6e-dbeb-a825c2e1c0ef"
      },
      "source": [
        "df_udemy['course_id'].value_counts().head(6).index #raw"
      ],
      "execution_count": null,
      "outputs": [
        {
          "data": {
            "text/plain": [
              "Int64Index([185526, 1084454, 837322, 28295, 1035638, 1157298], dtype='int64')"
            ]
          },
          "execution_count": 67,
          "metadata": {},
          "output_type": "execute_result"
        }
      ]
    },
    {
      "cell_type": "code",
      "metadata": {
        "id": "b8f9vdzYPG3N"
      },
      "source": [
        "list_duplicate_id = list(df_udemy['course_id'].value_counts().head(6).index)"
      ],
      "execution_count": null,
      "outputs": []
    },
    {
      "cell_type": "code",
      "metadata": {
        "colab": {
          "base_uri": "https://localhost:8080/",
          "height": 982
        },
        "id": "Y8d1PF9WPksE",
        "outputId": "f10b87eb-6566-4b5d-e2b6-cd0b1757648b"
      },
      "source": [
        "df_udemy[df_udemy['course_id'].isin(list_duplicate_id) ]"
      ],
      "execution_count": null,
      "outputs": [
        {
          "data": {
            "text/html": [
              "<div>\n",
              "<style scoped>\n",
              "    .dataframe tbody tr th:only-of-type {\n",
              "        vertical-align: middle;\n",
              "    }\n",
              "\n",
              "    .dataframe tbody tr th {\n",
              "        vertical-align: top;\n",
              "    }\n",
              "\n",
              "    .dataframe thead th {\n",
              "        text-align: right;\n",
              "    }\n",
              "</style>\n",
              "<table border=\"1\" class=\"dataframe\">\n",
              "  <thead>\n",
              "    <tr style=\"text-align: right;\">\n",
              "      <th></th>\n",
              "      <th>course_id</th>\n",
              "      <th>course_title</th>\n",
              "      <th>url</th>\n",
              "      <th>is_paid</th>\n",
              "      <th>price</th>\n",
              "      <th>num_subscribers</th>\n",
              "      <th>num_reviews</th>\n",
              "      <th>num_lectures</th>\n",
              "      <th>level</th>\n",
              "      <th>content_duration</th>\n",
              "      <th>published_timestamp</th>\n",
              "      <th>subject</th>\n",
              "    </tr>\n",
              "  </thead>\n",
              "  <tbody>\n",
              "    <tr>\n",
              "      <th>453</th>\n",
              "      <td>837322</td>\n",
              "      <td>Essentials of money value: Get a financial Life !</td>\n",
              "      <td>https://www.udemy.com/essentials-of-money-value/</td>\n",
              "      <td>True</td>\n",
              "      <td>20</td>\n",
              "      <td>0</td>\n",
              "      <td>0</td>\n",
              "      <td>20</td>\n",
              "      <td>All Levels</td>\n",
              "      <td>0.616667</td>\n",
              "      <td>2016-05-16T18:28:30Z</td>\n",
              "      <td>Business Finance</td>\n",
              "    </tr>\n",
              "    <tr>\n",
              "      <th>454</th>\n",
              "      <td>1157298</td>\n",
              "      <td>Introduction to Forex Trading Business For Beg...</td>\n",
              "      <td>https://www.udemy.com/introduction-to-forex-tr...</td>\n",
              "      <td>True</td>\n",
              "      <td>20</td>\n",
              "      <td>0</td>\n",
              "      <td>0</td>\n",
              "      <td>27</td>\n",
              "      <td>Beginner Level</td>\n",
              "      <td>1.500000</td>\n",
              "      <td>2017-04-23T16:19:01Z</td>\n",
              "      <td>Business Finance</td>\n",
              "    </tr>\n",
              "    <tr>\n",
              "      <th>463</th>\n",
              "      <td>1084454</td>\n",
              "      <td>CFA Level 2- Quantitative Methods</td>\n",
              "      <td>https://www.udemy.com/cfa-level-2-quantitative...</td>\n",
              "      <td>True</td>\n",
              "      <td>40</td>\n",
              "      <td>0</td>\n",
              "      <td>0</td>\n",
              "      <td>35</td>\n",
              "      <td>All Levels</td>\n",
              "      <td>5.500000</td>\n",
              "      <td>2017-07-02T14:29:35Z</td>\n",
              "      <td>Business Finance</td>\n",
              "    </tr>\n",
              "    <tr>\n",
              "      <th>778</th>\n",
              "      <td>1035638</td>\n",
              "      <td>Understanding Financial Statements</td>\n",
              "      <td>https://www.udemy.com/understanding-financial-...</td>\n",
              "      <td>True</td>\n",
              "      <td>25</td>\n",
              "      <td>0</td>\n",
              "      <td>0</td>\n",
              "      <td>10</td>\n",
              "      <td>All Levels</td>\n",
              "      <td>1.000000</td>\n",
              "      <td>2016-12-15T14:56:17Z</td>\n",
              "      <td>Business Finance</td>\n",
              "    </tr>\n",
              "    <tr>\n",
              "      <th>787</th>\n",
              "      <td>837322</td>\n",
              "      <td>Essentials of money value: Get a financial Life !</td>\n",
              "      <td>https://www.udemy.com/essentials-of-money-value/</td>\n",
              "      <td>True</td>\n",
              "      <td>20</td>\n",
              "      <td>0</td>\n",
              "      <td>0</td>\n",
              "      <td>20</td>\n",
              "      <td>All Levels</td>\n",
              "      <td>0.616667</td>\n",
              "      <td>2016-05-16T18:28:30Z</td>\n",
              "      <td>Business Finance</td>\n",
              "    </tr>\n",
              "    <tr>\n",
              "      <th>788</th>\n",
              "      <td>1157298</td>\n",
              "      <td>Introduction to Forex Trading Business For Beg...</td>\n",
              "      <td>https://www.udemy.com/introduction-to-forex-tr...</td>\n",
              "      <td>True</td>\n",
              "      <td>20</td>\n",
              "      <td>0</td>\n",
              "      <td>0</td>\n",
              "      <td>27</td>\n",
              "      <td>Beginner Level</td>\n",
              "      <td>1.500000</td>\n",
              "      <td>2017-04-23T16:19:01Z</td>\n",
              "      <td>Business Finance</td>\n",
              "    </tr>\n",
              "    <tr>\n",
              "      <th>894</th>\n",
              "      <td>1035638</td>\n",
              "      <td>Understanding Financial Statements</td>\n",
              "      <td>https://www.udemy.com/understanding-financial-...</td>\n",
              "      <td>True</td>\n",
              "      <td>25</td>\n",
              "      <td>0</td>\n",
              "      <td>0</td>\n",
              "      <td>10</td>\n",
              "      <td>All Levels</td>\n",
              "      <td>1.000000</td>\n",
              "      <td>2016-12-15T14:56:17Z</td>\n",
              "      <td>Business Finance</td>\n",
              "    </tr>\n",
              "    <tr>\n",
              "      <th>1100</th>\n",
              "      <td>1084454</td>\n",
              "      <td>CFA Level 2- Quantitative Methods</td>\n",
              "      <td>https://www.udemy.com/cfa-level-2-quantitative...</td>\n",
              "      <td>True</td>\n",
              "      <td>40</td>\n",
              "      <td>0</td>\n",
              "      <td>0</td>\n",
              "      <td>35</td>\n",
              "      <td>All Levels</td>\n",
              "      <td>5.500000</td>\n",
              "      <td>2017-07-02T14:29:35Z</td>\n",
              "      <td>Business Finance</td>\n",
              "    </tr>\n",
              "    <tr>\n",
              "      <th>1234</th>\n",
              "      <td>185526</td>\n",
              "      <td>MicroStation - Células</td>\n",
              "      <td>https://www.udemy.com/microstation-celulas/</td>\n",
              "      <td>True</td>\n",
              "      <td>20</td>\n",
              "      <td>0</td>\n",
              "      <td>0</td>\n",
              "      <td>9</td>\n",
              "      <td>Beginner Level</td>\n",
              "      <td>0.616667</td>\n",
              "      <td>2014-04-15T21:48:55Z</td>\n",
              "      <td>Graphic Design</td>\n",
              "    </tr>\n",
              "    <tr>\n",
              "      <th>1473</th>\n",
              "      <td>185526</td>\n",
              "      <td>MicroStation - Células</td>\n",
              "      <td>https://www.udemy.com/microstation-celulas/</td>\n",
              "      <td>True</td>\n",
              "      <td>20</td>\n",
              "      <td>0</td>\n",
              "      <td>0</td>\n",
              "      <td>9</td>\n",
              "      <td>Beginner Level</td>\n",
              "      <td>0.616667</td>\n",
              "      <td>2014-04-15T21:48:55Z</td>\n",
              "      <td>Graphic Design</td>\n",
              "    </tr>\n",
              "    <tr>\n",
              "      <th>2478</th>\n",
              "      <td>28295</td>\n",
              "      <td>Learn Web Designing &amp; HTML5/CSS3 Essentials in...</td>\n",
              "      <td>https://www.udemy.com/build-beautiful-html5-we...</td>\n",
              "      <td>True</td>\n",
              "      <td>75</td>\n",
              "      <td>43285</td>\n",
              "      <td>525</td>\n",
              "      <td>24</td>\n",
              "      <td>All Levels</td>\n",
              "      <td>4.000000</td>\n",
              "      <td>2013-01-03T00:55:31Z</td>\n",
              "      <td>Web Development</td>\n",
              "    </tr>\n",
              "    <tr>\n",
              "      <th>2561</th>\n",
              "      <td>28295</td>\n",
              "      <td>Learn Web Designing &amp; HTML5/CSS3 Essentials in...</td>\n",
              "      <td>https://www.udemy.com/build-beautiful-html5-we...</td>\n",
              "      <td>True</td>\n",
              "      <td>75</td>\n",
              "      <td>43285</td>\n",
              "      <td>525</td>\n",
              "      <td>24</td>\n",
              "      <td>All Levels</td>\n",
              "      <td>4.000000</td>\n",
              "      <td>2013-01-03T00:55:31Z</td>\n",
              "      <td>Web Development</td>\n",
              "    </tr>\n",
              "  </tbody>\n",
              "</table>\n",
              "</div>"
            ],
            "text/plain": [
              "      course_id  ...           subject\n",
              "453      837322  ...  Business Finance\n",
              "454     1157298  ...  Business Finance\n",
              "463     1084454  ...  Business Finance\n",
              "778     1035638  ...  Business Finance\n",
              "787      837322  ...  Business Finance\n",
              "788     1157298  ...  Business Finance\n",
              "894     1035638  ...  Business Finance\n",
              "1100    1084454  ...  Business Finance\n",
              "1234     185526  ...    Graphic Design\n",
              "1473     185526  ...    Graphic Design\n",
              "2478      28295  ...   Web Development\n",
              "2561      28295  ...   Web Development\n",
              "\n",
              "[12 rows x 12 columns]"
            ]
          },
          "execution_count": 69,
          "metadata": {},
          "output_type": "execute_result"
        }
      ]
    },
    {
      "cell_type": "code",
      "metadata": {
        "colab": {
          "base_uri": "https://localhost:8080/",
          "height": 177
        },
        "id": "UzlLsVkGQYqf",
        "outputId": "3b8d10ba-e62d-4043-b3c9-4b78642b6867"
      },
      "source": [
        "df_udemy[df_udemy['course_id'] ==837322]"
      ],
      "execution_count": null,
      "outputs": [
        {
          "data": {
            "text/html": [
              "<div>\n",
              "<style scoped>\n",
              "    .dataframe tbody tr th:only-of-type {\n",
              "        vertical-align: middle;\n",
              "    }\n",
              "\n",
              "    .dataframe tbody tr th {\n",
              "        vertical-align: top;\n",
              "    }\n",
              "\n",
              "    .dataframe thead th {\n",
              "        text-align: right;\n",
              "    }\n",
              "</style>\n",
              "<table border=\"1\" class=\"dataframe\">\n",
              "  <thead>\n",
              "    <tr style=\"text-align: right;\">\n",
              "      <th></th>\n",
              "      <th>course_id</th>\n",
              "      <th>course_title</th>\n",
              "      <th>url</th>\n",
              "      <th>is_paid</th>\n",
              "      <th>price</th>\n",
              "      <th>num_subscribers</th>\n",
              "      <th>num_reviews</th>\n",
              "      <th>num_lectures</th>\n",
              "      <th>level</th>\n",
              "      <th>content_duration</th>\n",
              "      <th>published_timestamp</th>\n",
              "      <th>subject</th>\n",
              "    </tr>\n",
              "  </thead>\n",
              "  <tbody>\n",
              "    <tr>\n",
              "      <th>453</th>\n",
              "      <td>837322</td>\n",
              "      <td>Essentials of money value: Get a financial Life !</td>\n",
              "      <td>https://www.udemy.com/essentials-of-money-value/</td>\n",
              "      <td>True</td>\n",
              "      <td>20</td>\n",
              "      <td>0</td>\n",
              "      <td>0</td>\n",
              "      <td>20</td>\n",
              "      <td>All Levels</td>\n",
              "      <td>0.616667</td>\n",
              "      <td>2016-05-16T18:28:30Z</td>\n",
              "      <td>Business Finance</td>\n",
              "    </tr>\n",
              "  </tbody>\n",
              "</table>\n",
              "</div>"
            ],
            "text/plain": [
              "     course_id  ...           subject\n",
              "453     837322  ...  Business Finance\n",
              "\n",
              "[1 rows x 12 columns]"
            ]
          },
          "execution_count": 120,
          "metadata": {},
          "output_type": "execute_result"
        }
      ]
    },
    {
      "cell_type": "code",
      "metadata": {
        "colab": {
          "base_uri": "https://localhost:8080/",
          "height": 173
        },
        "id": "yK-GafD8SNEt",
        "outputId": "6334f324-1021-4151-baea-28e6438e704d"
      },
      "source": [
        "df_udemy[df_udemy['course_id'] ==185526]"
      ],
      "execution_count": null,
      "outputs": [
        {
          "data": {
            "text/html": [
              "<div>\n",
              "<style scoped>\n",
              "    .dataframe tbody tr th:only-of-type {\n",
              "        vertical-align: middle;\n",
              "    }\n",
              "\n",
              "    .dataframe tbody tr th {\n",
              "        vertical-align: top;\n",
              "    }\n",
              "\n",
              "    .dataframe thead th {\n",
              "        text-align: right;\n",
              "    }\n",
              "</style>\n",
              "<table border=\"1\" class=\"dataframe\">\n",
              "  <thead>\n",
              "    <tr style=\"text-align: right;\">\n",
              "      <th></th>\n",
              "      <th>course_id</th>\n",
              "      <th>course_title</th>\n",
              "      <th>url</th>\n",
              "      <th>is_paid</th>\n",
              "      <th>price</th>\n",
              "      <th>num_subscribers</th>\n",
              "      <th>num_reviews</th>\n",
              "      <th>num_lectures</th>\n",
              "      <th>level</th>\n",
              "      <th>content_duration</th>\n",
              "      <th>published_timestamp</th>\n",
              "      <th>subject</th>\n",
              "    </tr>\n",
              "  </thead>\n",
              "  <tbody>\n",
              "    <tr>\n",
              "      <th>1234</th>\n",
              "      <td>185526</td>\n",
              "      <td>MicroStation - Células</td>\n",
              "      <td>https://www.udemy.com/microstation-celulas/</td>\n",
              "      <td>True</td>\n",
              "      <td>20</td>\n",
              "      <td>0</td>\n",
              "      <td>0</td>\n",
              "      <td>9</td>\n",
              "      <td>Beginner Level</td>\n",
              "      <td>0.616667</td>\n",
              "      <td>2014-04-15T21:48:55Z</td>\n",
              "      <td>Graphic Design</td>\n",
              "    </tr>\n",
              "    <tr>\n",
              "      <th>1473</th>\n",
              "      <td>185526</td>\n",
              "      <td>MicroStation - Células</td>\n",
              "      <td>https://www.udemy.com/microstation-celulas/</td>\n",
              "      <td>True</td>\n",
              "      <td>20</td>\n",
              "      <td>0</td>\n",
              "      <td>0</td>\n",
              "      <td>9</td>\n",
              "      <td>Beginner Level</td>\n",
              "      <td>0.616667</td>\n",
              "      <td>2014-04-15T21:48:55Z</td>\n",
              "      <td>Graphic Design</td>\n",
              "    </tr>\n",
              "  </tbody>\n",
              "</table>\n",
              "</div>"
            ],
            "text/plain": [
              "      course_id            course_title  ...   published_timestamp         subject\n",
              "1234     185526  MicroStation - Células  ...  2014-04-15T21:48:55Z  Graphic Design\n",
              "1473     185526  MicroStation - Células  ...  2014-04-15T21:48:55Z  Graphic Design\n",
              "\n",
              "[2 rows x 12 columns]"
            ]
          },
          "execution_count": 71,
          "metadata": {},
          "output_type": "execute_result"
        }
      ]
    },
    {
      "cell_type": "code",
      "metadata": {
        "colab": {
          "base_uri": "https://localhost:8080/",
          "height": 210
        },
        "id": "Btwe3KUiTl2X",
        "outputId": "1e4c7803-56f3-4b44-e2e1-b7d6417162a7"
      },
      "source": [
        "df_udemy[df_udemy['course_id'] ==1084454]"
      ],
      "execution_count": null,
      "outputs": [
        {
          "data": {
            "text/html": [
              "<div>\n",
              "<style scoped>\n",
              "    .dataframe tbody tr th:only-of-type {\n",
              "        vertical-align: middle;\n",
              "    }\n",
              "\n",
              "    .dataframe tbody tr th {\n",
              "        vertical-align: top;\n",
              "    }\n",
              "\n",
              "    .dataframe thead th {\n",
              "        text-align: right;\n",
              "    }\n",
              "</style>\n",
              "<table border=\"1\" class=\"dataframe\">\n",
              "  <thead>\n",
              "    <tr style=\"text-align: right;\">\n",
              "      <th></th>\n",
              "      <th>course_id</th>\n",
              "      <th>course_title</th>\n",
              "      <th>url</th>\n",
              "      <th>is_paid</th>\n",
              "      <th>price</th>\n",
              "      <th>num_subscribers</th>\n",
              "      <th>num_reviews</th>\n",
              "      <th>num_lectures</th>\n",
              "      <th>level</th>\n",
              "      <th>content_duration</th>\n",
              "      <th>published_timestamp</th>\n",
              "      <th>subject</th>\n",
              "    </tr>\n",
              "  </thead>\n",
              "  <tbody>\n",
              "    <tr>\n",
              "      <th>463</th>\n",
              "      <td>1084454</td>\n",
              "      <td>CFA Level 2- Quantitative Methods</td>\n",
              "      <td>https://www.udemy.com/cfa-level-2-quantitative...</td>\n",
              "      <td>True</td>\n",
              "      <td>40</td>\n",
              "      <td>0</td>\n",
              "      <td>0</td>\n",
              "      <td>35</td>\n",
              "      <td>All Levels</td>\n",
              "      <td>5.5</td>\n",
              "      <td>2017-07-02T14:29:35Z</td>\n",
              "      <td>Business Finance</td>\n",
              "    </tr>\n",
              "    <tr>\n",
              "      <th>1100</th>\n",
              "      <td>1084454</td>\n",
              "      <td>CFA Level 2- Quantitative Methods</td>\n",
              "      <td>https://www.udemy.com/cfa-level-2-quantitative...</td>\n",
              "      <td>True</td>\n",
              "      <td>40</td>\n",
              "      <td>0</td>\n",
              "      <td>0</td>\n",
              "      <td>35</td>\n",
              "      <td>All Levels</td>\n",
              "      <td>5.5</td>\n",
              "      <td>2017-07-02T14:29:35Z</td>\n",
              "      <td>Business Finance</td>\n",
              "    </tr>\n",
              "  </tbody>\n",
              "</table>\n",
              "</div>"
            ],
            "text/plain": [
              "      course_id  ...           subject\n",
              "463     1084454  ...  Business Finance\n",
              "1100    1084454  ...  Business Finance\n",
              "\n",
              "[2 rows x 12 columns]"
            ]
          },
          "execution_count": 72,
          "metadata": {},
          "output_type": "execute_result"
        }
      ]
    },
    {
      "cell_type": "code",
      "metadata": {
        "colab": {
          "base_uri": "https://localhost:8080/"
        },
        "id": "VxRkhbHBTtvE",
        "outputId": "6e83a78a-ef27-47b2-8b6b-b87bf84ccd02"
      },
      "source": [
        "list_duplicate_id"
      ],
      "execution_count": null,
      "outputs": [
        {
          "data": {
            "text/plain": [
              "[185526, 1084454, 837322, 28295, 1035638, 1157298]"
            ]
          },
          "execution_count": 73,
          "metadata": {},
          "output_type": "execute_result"
        }
      ]
    },
    {
      "cell_type": "code",
      "metadata": {
        "colab": {
          "base_uri": "https://localhost:8080/",
          "height": 284
        },
        "id": "01VvNHMvTxUx",
        "outputId": "84ef2d15-66e3-4d4b-ea35-f944b6598487"
      },
      "source": [
        "df_udemy[df_udemy['course_id'] ==28295]"
      ],
      "execution_count": null,
      "outputs": [
        {
          "data": {
            "text/html": [
              "<div>\n",
              "<style scoped>\n",
              "    .dataframe tbody tr th:only-of-type {\n",
              "        vertical-align: middle;\n",
              "    }\n",
              "\n",
              "    .dataframe tbody tr th {\n",
              "        vertical-align: top;\n",
              "    }\n",
              "\n",
              "    .dataframe thead th {\n",
              "        text-align: right;\n",
              "    }\n",
              "</style>\n",
              "<table border=\"1\" class=\"dataframe\">\n",
              "  <thead>\n",
              "    <tr style=\"text-align: right;\">\n",
              "      <th></th>\n",
              "      <th>course_id</th>\n",
              "      <th>course_title</th>\n",
              "      <th>url</th>\n",
              "      <th>is_paid</th>\n",
              "      <th>price</th>\n",
              "      <th>num_subscribers</th>\n",
              "      <th>num_reviews</th>\n",
              "      <th>num_lectures</th>\n",
              "      <th>level</th>\n",
              "      <th>content_duration</th>\n",
              "      <th>published_timestamp</th>\n",
              "      <th>subject</th>\n",
              "    </tr>\n",
              "  </thead>\n",
              "  <tbody>\n",
              "    <tr>\n",
              "      <th>2478</th>\n",
              "      <td>28295</td>\n",
              "      <td>Learn Web Designing &amp; HTML5/CSS3 Essentials in...</td>\n",
              "      <td>https://www.udemy.com/build-beautiful-html5-we...</td>\n",
              "      <td>True</td>\n",
              "      <td>75</td>\n",
              "      <td>43285</td>\n",
              "      <td>525</td>\n",
              "      <td>24</td>\n",
              "      <td>All Levels</td>\n",
              "      <td>4.0</td>\n",
              "      <td>2013-01-03T00:55:31Z</td>\n",
              "      <td>Web Development</td>\n",
              "    </tr>\n",
              "    <tr>\n",
              "      <th>2561</th>\n",
              "      <td>28295</td>\n",
              "      <td>Learn Web Designing &amp; HTML5/CSS3 Essentials in...</td>\n",
              "      <td>https://www.udemy.com/build-beautiful-html5-we...</td>\n",
              "      <td>True</td>\n",
              "      <td>75</td>\n",
              "      <td>43285</td>\n",
              "      <td>525</td>\n",
              "      <td>24</td>\n",
              "      <td>All Levels</td>\n",
              "      <td>4.0</td>\n",
              "      <td>2013-01-03T00:55:31Z</td>\n",
              "      <td>Web Development</td>\n",
              "    </tr>\n",
              "  </tbody>\n",
              "</table>\n",
              "</div>"
            ],
            "text/plain": [
              "      course_id  ...          subject\n",
              "2478      28295  ...  Web Development\n",
              "2561      28295  ...  Web Development\n",
              "\n",
              "[2 rows x 12 columns]"
            ]
          },
          "execution_count": 74,
          "metadata": {},
          "output_type": "execute_result"
        }
      ]
    },
    {
      "cell_type": "code",
      "metadata": {
        "colab": {
          "base_uri": "https://localhost:8080/",
          "height": 210
        },
        "id": "FFsFQRQBT2pW",
        "outputId": "035add7e-8b03-4752-8950-169bf57866d2"
      },
      "source": [
        "df_udemy[df_udemy['course_id'] ==1035638]"
      ],
      "execution_count": null,
      "outputs": [
        {
          "data": {
            "text/html": [
              "<div>\n",
              "<style scoped>\n",
              "    .dataframe tbody tr th:only-of-type {\n",
              "        vertical-align: middle;\n",
              "    }\n",
              "\n",
              "    .dataframe tbody tr th {\n",
              "        vertical-align: top;\n",
              "    }\n",
              "\n",
              "    .dataframe thead th {\n",
              "        text-align: right;\n",
              "    }\n",
              "</style>\n",
              "<table border=\"1\" class=\"dataframe\">\n",
              "  <thead>\n",
              "    <tr style=\"text-align: right;\">\n",
              "      <th></th>\n",
              "      <th>course_id</th>\n",
              "      <th>course_title</th>\n",
              "      <th>url</th>\n",
              "      <th>is_paid</th>\n",
              "      <th>price</th>\n",
              "      <th>num_subscribers</th>\n",
              "      <th>num_reviews</th>\n",
              "      <th>num_lectures</th>\n",
              "      <th>level</th>\n",
              "      <th>content_duration</th>\n",
              "      <th>published_timestamp</th>\n",
              "      <th>subject</th>\n",
              "    </tr>\n",
              "  </thead>\n",
              "  <tbody>\n",
              "    <tr>\n",
              "      <th>778</th>\n",
              "      <td>1035638</td>\n",
              "      <td>Understanding Financial Statements</td>\n",
              "      <td>https://www.udemy.com/understanding-financial-...</td>\n",
              "      <td>True</td>\n",
              "      <td>25</td>\n",
              "      <td>0</td>\n",
              "      <td>0</td>\n",
              "      <td>10</td>\n",
              "      <td>All Levels</td>\n",
              "      <td>1.0</td>\n",
              "      <td>2016-12-15T14:56:17Z</td>\n",
              "      <td>Business Finance</td>\n",
              "    </tr>\n",
              "    <tr>\n",
              "      <th>894</th>\n",
              "      <td>1035638</td>\n",
              "      <td>Understanding Financial Statements</td>\n",
              "      <td>https://www.udemy.com/understanding-financial-...</td>\n",
              "      <td>True</td>\n",
              "      <td>25</td>\n",
              "      <td>0</td>\n",
              "      <td>0</td>\n",
              "      <td>10</td>\n",
              "      <td>All Levels</td>\n",
              "      <td>1.0</td>\n",
              "      <td>2016-12-15T14:56:17Z</td>\n",
              "      <td>Business Finance</td>\n",
              "    </tr>\n",
              "  </tbody>\n",
              "</table>\n",
              "</div>"
            ],
            "text/plain": [
              "     course_id  ...           subject\n",
              "778    1035638  ...  Business Finance\n",
              "894    1035638  ...  Business Finance\n",
              "\n",
              "[2 rows x 12 columns]"
            ]
          },
          "execution_count": 75,
          "metadata": {},
          "output_type": "execute_result"
        }
      ]
    },
    {
      "cell_type": "code",
      "metadata": {
        "colab": {
          "base_uri": "https://localhost:8080/",
          "height": 284
        },
        "id": "c5IEyffVT5pa",
        "outputId": "596ee331-45d4-4b7a-83ae-1c9b392b7078"
      },
      "source": [
        "df_udemy[df_udemy['course_id'] ==1157298]"
      ],
      "execution_count": null,
      "outputs": [
        {
          "data": {
            "text/html": [
              "<div>\n",
              "<style scoped>\n",
              "    .dataframe tbody tr th:only-of-type {\n",
              "        vertical-align: middle;\n",
              "    }\n",
              "\n",
              "    .dataframe tbody tr th {\n",
              "        vertical-align: top;\n",
              "    }\n",
              "\n",
              "    .dataframe thead th {\n",
              "        text-align: right;\n",
              "    }\n",
              "</style>\n",
              "<table border=\"1\" class=\"dataframe\">\n",
              "  <thead>\n",
              "    <tr style=\"text-align: right;\">\n",
              "      <th></th>\n",
              "      <th>course_id</th>\n",
              "      <th>course_title</th>\n",
              "      <th>url</th>\n",
              "      <th>is_paid</th>\n",
              "      <th>price</th>\n",
              "      <th>num_subscribers</th>\n",
              "      <th>num_reviews</th>\n",
              "      <th>num_lectures</th>\n",
              "      <th>level</th>\n",
              "      <th>content_duration</th>\n",
              "      <th>published_timestamp</th>\n",
              "      <th>subject</th>\n",
              "    </tr>\n",
              "  </thead>\n",
              "  <tbody>\n",
              "    <tr>\n",
              "      <th>454</th>\n",
              "      <td>1157298</td>\n",
              "      <td>Introduction to Forex Trading Business For Beg...</td>\n",
              "      <td>https://www.udemy.com/introduction-to-forex-tr...</td>\n",
              "      <td>True</td>\n",
              "      <td>20</td>\n",
              "      <td>0</td>\n",
              "      <td>0</td>\n",
              "      <td>27</td>\n",
              "      <td>Beginner Level</td>\n",
              "      <td>1.5</td>\n",
              "      <td>2017-04-23T16:19:01Z</td>\n",
              "      <td>Business Finance</td>\n",
              "    </tr>\n",
              "    <tr>\n",
              "      <th>788</th>\n",
              "      <td>1157298</td>\n",
              "      <td>Introduction to Forex Trading Business For Beg...</td>\n",
              "      <td>https://www.udemy.com/introduction-to-forex-tr...</td>\n",
              "      <td>True</td>\n",
              "      <td>20</td>\n",
              "      <td>0</td>\n",
              "      <td>0</td>\n",
              "      <td>27</td>\n",
              "      <td>Beginner Level</td>\n",
              "      <td>1.5</td>\n",
              "      <td>2017-04-23T16:19:01Z</td>\n",
              "      <td>Business Finance</td>\n",
              "    </tr>\n",
              "  </tbody>\n",
              "</table>\n",
              "</div>"
            ],
            "text/plain": [
              "     course_id  ...           subject\n",
              "454    1157298  ...  Business Finance\n",
              "788    1157298  ...  Business Finance\n",
              "\n",
              "[2 rows x 12 columns]"
            ]
          },
          "execution_count": 76,
          "metadata": {},
          "output_type": "execute_result"
        }
      ]
    },
    {
      "cell_type": "code",
      "metadata": {
        "colab": {
          "base_uri": "https://localhost:8080/",
          "height": 1000
        },
        "id": "13IV88FhUBSp",
        "outputId": "0e266ac6-9351-4b86-8cac-0ba33ac8bb70"
      },
      "source": [
        "df_udemy=df_udemy.drop_duplicates()\n",
        "df_udemy"
      ],
      "execution_count": null,
      "outputs": [
        {
          "data": {
            "text/html": [
              "<div>\n",
              "<style scoped>\n",
              "    .dataframe tbody tr th:only-of-type {\n",
              "        vertical-align: middle;\n",
              "    }\n",
              "\n",
              "    .dataframe tbody tr th {\n",
              "        vertical-align: top;\n",
              "    }\n",
              "\n",
              "    .dataframe thead th {\n",
              "        text-align: right;\n",
              "    }\n",
              "</style>\n",
              "<table border=\"1\" class=\"dataframe\">\n",
              "  <thead>\n",
              "    <tr style=\"text-align: right;\">\n",
              "      <th></th>\n",
              "      <th>course_id</th>\n",
              "      <th>course_title</th>\n",
              "      <th>url</th>\n",
              "      <th>is_paid</th>\n",
              "      <th>price</th>\n",
              "      <th>num_subscribers</th>\n",
              "      <th>num_reviews</th>\n",
              "      <th>num_lectures</th>\n",
              "      <th>level</th>\n",
              "      <th>content_duration</th>\n",
              "      <th>published_timestamp</th>\n",
              "      <th>subject</th>\n",
              "    </tr>\n",
              "  </thead>\n",
              "  <tbody>\n",
              "    <tr>\n",
              "      <th>0</th>\n",
              "      <td>1070968</td>\n",
              "      <td>Ultimate Investment Banking Course</td>\n",
              "      <td>https://www.udemy.com/ultimate-investment-bank...</td>\n",
              "      <td>True</td>\n",
              "      <td>200</td>\n",
              "      <td>2147</td>\n",
              "      <td>23</td>\n",
              "      <td>51</td>\n",
              "      <td>All Levels</td>\n",
              "      <td>1.5</td>\n",
              "      <td>2017-01-18T20:58:58Z</td>\n",
              "      <td>Business Finance</td>\n",
              "    </tr>\n",
              "    <tr>\n",
              "      <th>1</th>\n",
              "      <td>1113822</td>\n",
              "      <td>Complete GST Course &amp; Certification - Grow You...</td>\n",
              "      <td>https://www.udemy.com/goods-and-services-tax/</td>\n",
              "      <td>True</td>\n",
              "      <td>75</td>\n",
              "      <td>2792</td>\n",
              "      <td>923</td>\n",
              "      <td>274</td>\n",
              "      <td>All Levels</td>\n",
              "      <td>39.0</td>\n",
              "      <td>2017-03-09T16:34:20Z</td>\n",
              "      <td>Business Finance</td>\n",
              "    </tr>\n",
              "    <tr>\n",
              "      <th>2</th>\n",
              "      <td>1006314</td>\n",
              "      <td>Financial Modeling for Business Analysts and C...</td>\n",
              "      <td>https://www.udemy.com/financial-modeling-for-b...</td>\n",
              "      <td>True</td>\n",
              "      <td>45</td>\n",
              "      <td>2174</td>\n",
              "      <td>74</td>\n",
              "      <td>51</td>\n",
              "      <td>Intermediate Level</td>\n",
              "      <td>2.5</td>\n",
              "      <td>2016-12-19T19:26:30Z</td>\n",
              "      <td>Business Finance</td>\n",
              "    </tr>\n",
              "    <tr>\n",
              "      <th>3</th>\n",
              "      <td>1210588</td>\n",
              "      <td>Beginner to Pro - Financial Analysis in Excel ...</td>\n",
              "      <td>https://www.udemy.com/complete-excel-finance-c...</td>\n",
              "      <td>True</td>\n",
              "      <td>95</td>\n",
              "      <td>2451</td>\n",
              "      <td>11</td>\n",
              "      <td>36</td>\n",
              "      <td>All Levels</td>\n",
              "      <td>3.0</td>\n",
              "      <td>2017-05-30T20:07:24Z</td>\n",
              "      <td>Business Finance</td>\n",
              "    </tr>\n",
              "    <tr>\n",
              "      <th>4</th>\n",
              "      <td>1011058</td>\n",
              "      <td>How To Maximize Your Profits Trading Options</td>\n",
              "      <td>https://www.udemy.com/how-to-maximize-your-pro...</td>\n",
              "      <td>True</td>\n",
              "      <td>200</td>\n",
              "      <td>1276</td>\n",
              "      <td>45</td>\n",
              "      <td>26</td>\n",
              "      <td>Intermediate Level</td>\n",
              "      <td>2.0</td>\n",
              "      <td>2016-12-13T14:57:18Z</td>\n",
              "      <td>Business Finance</td>\n",
              "    </tr>\n",
              "    <tr>\n",
              "      <th>...</th>\n",
              "      <td>...</td>\n",
              "      <td>...</td>\n",
              "      <td>...</td>\n",
              "      <td>...</td>\n",
              "      <td>...</td>\n",
              "      <td>...</td>\n",
              "      <td>...</td>\n",
              "      <td>...</td>\n",
              "      <td>...</td>\n",
              "      <td>...</td>\n",
              "      <td>...</td>\n",
              "      <td>...</td>\n",
              "    </tr>\n",
              "    <tr>\n",
              "      <th>3673</th>\n",
              "      <td>775618</td>\n",
              "      <td>Learn jQuery from Scratch - Master of JavaScri...</td>\n",
              "      <td>https://www.udemy.com/easy-jquery-for-beginner...</td>\n",
              "      <td>True</td>\n",
              "      <td>100</td>\n",
              "      <td>1040</td>\n",
              "      <td>14</td>\n",
              "      <td>21</td>\n",
              "      <td>All Levels</td>\n",
              "      <td>2.0</td>\n",
              "      <td>2016-06-14T17:36:46Z</td>\n",
              "      <td>Web Development</td>\n",
              "    </tr>\n",
              "    <tr>\n",
              "      <th>3674</th>\n",
              "      <td>1088178</td>\n",
              "      <td>How To Design A WordPress Website With No Codi...</td>\n",
              "      <td>https://www.udemy.com/how-to-make-a-wordpress-...</td>\n",
              "      <td>True</td>\n",
              "      <td>25</td>\n",
              "      <td>306</td>\n",
              "      <td>3</td>\n",
              "      <td>42</td>\n",
              "      <td>Beginner Level</td>\n",
              "      <td>3.5</td>\n",
              "      <td>2017-03-10T22:24:30Z</td>\n",
              "      <td>Web Development</td>\n",
              "    </tr>\n",
              "    <tr>\n",
              "      <th>3675</th>\n",
              "      <td>635248</td>\n",
              "      <td>Learn and Build using Polymer</td>\n",
              "      <td>https://www.udemy.com/learn-and-build-using-po...</td>\n",
              "      <td>True</td>\n",
              "      <td>40</td>\n",
              "      <td>513</td>\n",
              "      <td>169</td>\n",
              "      <td>48</td>\n",
              "      <td>All Levels</td>\n",
              "      <td>3.5</td>\n",
              "      <td>2015-12-30T16:41:42Z</td>\n",
              "      <td>Web Development</td>\n",
              "    </tr>\n",
              "    <tr>\n",
              "      <th>3676</th>\n",
              "      <td>905096</td>\n",
              "      <td>CSS Animations: Create Amazing Effects on Your...</td>\n",
              "      <td>https://www.udemy.com/css-animations-create-am...</td>\n",
              "      <td>True</td>\n",
              "      <td>50</td>\n",
              "      <td>300</td>\n",
              "      <td>31</td>\n",
              "      <td>38</td>\n",
              "      <td>All Levels</td>\n",
              "      <td>3.0</td>\n",
              "      <td>2016-08-11T19:06:15Z</td>\n",
              "      <td>Web Development</td>\n",
              "    </tr>\n",
              "    <tr>\n",
              "      <th>3677</th>\n",
              "      <td>297602</td>\n",
              "      <td>Using MODX CMS to Build Websites: A Beginner's...</td>\n",
              "      <td>https://www.udemy.com/using-modx-cms-to-build-...</td>\n",
              "      <td>True</td>\n",
              "      <td>45</td>\n",
              "      <td>901</td>\n",
              "      <td>36</td>\n",
              "      <td>20</td>\n",
              "      <td>Beginner Level</td>\n",
              "      <td>2.0</td>\n",
              "      <td>2014-09-28T19:51:11Z</td>\n",
              "      <td>Web Development</td>\n",
              "    </tr>\n",
              "  </tbody>\n",
              "</table>\n",
              "<p>3672 rows × 12 columns</p>\n",
              "</div>"
            ],
            "text/plain": [
              "      course_id  ...           subject\n",
              "0       1070968  ...  Business Finance\n",
              "1       1113822  ...  Business Finance\n",
              "2       1006314  ...  Business Finance\n",
              "3       1210588  ...  Business Finance\n",
              "4       1011058  ...  Business Finance\n",
              "...         ...  ...               ...\n",
              "3673     775618  ...   Web Development\n",
              "3674    1088178  ...   Web Development\n",
              "3675     635248  ...   Web Development\n",
              "3676     905096  ...   Web Development\n",
              "3677     297602  ...   Web Development\n",
              "\n",
              "[3672 rows x 12 columns]"
            ]
          },
          "execution_count": 102,
          "metadata": {},
          "output_type": "execute_result"
        }
      ]
    },
    {
      "cell_type": "code",
      "metadata": {
        "colab": {
          "base_uri": "https://localhost:8080/"
        },
        "id": "HX9pvZqwUrD-",
        "outputId": "997f3196-59ca-4834-bb51-77382d6bc898"
      },
      "source": [
        "df_udemy.columns"
      ],
      "execution_count": null,
      "outputs": [
        {
          "data": {
            "text/plain": [
              "Index(['course_id', 'course_title', 'url', 'is_paid', 'price',\n",
              "       'num_subscribers', 'num_reviews', 'num_lectures', 'level',\n",
              "       'content_duration', 'published_timestamp', 'subject'],\n",
              "      dtype='object')"
            ]
          },
          "execution_count": 103,
          "metadata": {},
          "output_type": "execute_result"
        }
      ]
    },
    {
      "cell_type": "code",
      "metadata": {
        "colab": {
          "base_uri": "https://localhost:8080/"
        },
        "id": "7Cz3ySU7VHfC",
        "outputId": "6d3d7664-ce77-4d46-f489-d5739d90e756"
      },
      "source": [
        "df_udemy['course_title']"
      ],
      "execution_count": null,
      "outputs": [
        {
          "data": {
            "text/plain": [
              "0                      Ultimate Investment Banking Course\n",
              "1       Complete GST Course & Certification - Grow You...\n",
              "2       Financial Modeling for Business Analysts and C...\n",
              "3       Beginner to Pro - Financial Analysis in Excel ...\n",
              "4            How To Maximize Your Profits Trading Options\n",
              "                              ...                        \n",
              "3673    Learn jQuery from Scratch - Master of JavaScri...\n",
              "3674    How To Design A WordPress Website With No Codi...\n",
              "3675                        Learn and Build using Polymer\n",
              "3676    CSS Animations: Create Amazing Effects on Your...\n",
              "3677    Using MODX CMS to Build Websites: A Beginner's...\n",
              "Name: course_title, Length: 3672, dtype: object"
            ]
          },
          "execution_count": 104,
          "metadata": {},
          "output_type": "execute_result"
        }
      ]
    },
    {
      "cell_type": "code",
      "metadata": {
        "colab": {
          "base_uri": "https://localhost:8080/"
        },
        "id": "O88SVbkFf7Ta",
        "outputId": "0691dce3-ed26-4604-d7c4-54cf452a25ad"
      },
      "source": [
        "df_udemy['course_title'].value_counts()"
      ],
      "execution_count": null,
      "outputs": [
        {
          "data": {
            "text/plain": [
              "Acoustic Blues Guitar Lessons                                   3\n",
              "Creating an animated greeting card via Google Slides            3\n",
              "Drum Lessons For Beginners                                      2\n",
              "Introduction to Web Development                                 2\n",
              "How to Make a Wordpress Website 2017                            2\n",
              "                                                               ..\n",
              "How to play Contemporary Piano                                  1\n",
              "InDesign: Diseño de proyectos paso a paso                       1\n",
              "Introduction to HTML                                            1\n",
              "Learn to Play Euphonium: Beginner to Pro in Under Five Hours    1\n",
              "Intro to Impact Investing                                       1\n",
              "Name: course_title, Length: 3663, dtype: int64"
            ]
          },
          "execution_count": 121,
          "metadata": {},
          "output_type": "execute_result"
        }
      ]
    },
    {
      "cell_type": "code",
      "metadata": {
        "colab": {
          "base_uri": "https://localhost:8080/"
        },
        "id": "kXfXKl4dbtpQ",
        "outputId": "ad1d7e0d-03f5-424c-cb9d-32f34d5d8a27"
      },
      "source": [
        "df_udemy['course_title'].value_counts().head(7)"
      ],
      "execution_count": null,
      "outputs": [
        {
          "data": {
            "text/plain": [
              "Acoustic Blues Guitar Lessons                                   3\n",
              "Creating an animated greeting card via Google Slides            3\n",
              "Drum Lessons For Beginners                                      2\n",
              "Introduction to Web Development                                 2\n",
              "How to Make a Wordpress Website 2017                            2\n",
              "Aprende a tocar el acordeón de botones                          2\n",
              "The Complete Web Developer Masterclass: Beginner To Advanced    2\n",
              "Name: course_title, dtype: int64"
            ]
          },
          "execution_count": 113,
          "metadata": {},
          "output_type": "execute_result"
        }
      ]
    },
    {
      "cell_type": "code",
      "metadata": {
        "id": "PkCj5gq-bwgy"
      },
      "source": [
        "list_duplicate_title = list(df_udemy['course_title'].value_counts().head(7).index)"
      ],
      "execution_count": null,
      "outputs": []
    },
    {
      "cell_type": "code",
      "metadata": {
        "colab": {
          "base_uri": "https://localhost:8080/"
        },
        "id": "FY4IgIM8cCdj",
        "outputId": "2f45713c-fad0-42cb-e478-01b474f2b48d"
      },
      "source": [
        "list_duplicate_title"
      ],
      "execution_count": null,
      "outputs": [
        {
          "data": {
            "text/plain": [
              "['Acoustic Blues Guitar Lessons',\n",
              " 'Creating an animated greeting card via Google Slides',\n",
              " 'Drum Lessons For Beginners',\n",
              " 'Introduction to Web Development',\n",
              " 'How to Make a Wordpress Website 2017',\n",
              " 'Aprende a tocar el acordeón de botones',\n",
              " 'The Complete Web Developer Masterclass: Beginner To Advanced']"
            ]
          },
          "execution_count": 116,
          "metadata": {},
          "output_type": "execute_result"
        }
      ]
    },
    {
      "cell_type": "code",
      "metadata": {
        "colab": {
          "base_uri": "https://localhost:8080/",
          "height": 1000
        },
        "id": "hga_l_uocPvS",
        "outputId": "eab00359-d84d-4340-a0bb-e544e5c334ac"
      },
      "source": [
        "df_udemy[df_udemy['course_title'].isin(list_duplicate_title)]"
      ],
      "execution_count": null,
      "outputs": [
        {
          "data": {
            "text/html": [
              "<div>\n",
              "<style scoped>\n",
              "    .dataframe tbody tr th:only-of-type {\n",
              "        vertical-align: middle;\n",
              "    }\n",
              "\n",
              "    .dataframe tbody tr th {\n",
              "        vertical-align: top;\n",
              "    }\n",
              "\n",
              "    .dataframe thead th {\n",
              "        text-align: right;\n",
              "    }\n",
              "</style>\n",
              "<table border=\"1\" class=\"dataframe\">\n",
              "  <thead>\n",
              "    <tr style=\"text-align: right;\">\n",
              "      <th></th>\n",
              "      <th>course_id</th>\n",
              "      <th>course_title</th>\n",
              "      <th>url</th>\n",
              "      <th>is_paid</th>\n",
              "      <th>price</th>\n",
              "      <th>num_subscribers</th>\n",
              "      <th>num_reviews</th>\n",
              "      <th>num_lectures</th>\n",
              "      <th>level</th>\n",
              "      <th>content_duration</th>\n",
              "      <th>published_timestamp</th>\n",
              "      <th>subject</th>\n",
              "    </tr>\n",
              "  </thead>\n",
              "  <tbody>\n",
              "    <tr>\n",
              "      <th>1301</th>\n",
              "      <td>692920</td>\n",
              "      <td>Creating an animated greeting card via Google ...</td>\n",
              "      <td>https://www.udemy.com/creating-an-animated-gre...</td>\n",
              "      <td>True</td>\n",
              "      <td>20</td>\n",
              "      <td>1504</td>\n",
              "      <td>10</td>\n",
              "      <td>9</td>\n",
              "      <td>Beginner Level</td>\n",
              "      <td>1.500000</td>\n",
              "      <td>2016-01-05T20:31:49Z</td>\n",
              "      <td>Graphic Design</td>\n",
              "    </tr>\n",
              "    <tr>\n",
              "      <th>1334</th>\n",
              "      <td>699376</td>\n",
              "      <td>Creating an animated greeting card via Google ...</td>\n",
              "      <td>https://www.udemy.com/creating-an-animated-gre...</td>\n",
              "      <td>True</td>\n",
              "      <td>20</td>\n",
              "      <td>549</td>\n",
              "      <td>10</td>\n",
              "      <td>8</td>\n",
              "      <td>Beginner Level</td>\n",
              "      <td>1.000000</td>\n",
              "      <td>2016-04-12T01:24:14Z</td>\n",
              "      <td>Graphic Design</td>\n",
              "    </tr>\n",
              "    <tr>\n",
              "      <th>1447</th>\n",
              "      <td>699380</td>\n",
              "      <td>Creating an animated greeting card via Google ...</td>\n",
              "      <td>https://www.udemy.com/creating-an-animated-gre...</td>\n",
              "      <td>True</td>\n",
              "      <td>20</td>\n",
              "      <td>770</td>\n",
              "      <td>8</td>\n",
              "      <td>8</td>\n",
              "      <td>Intermediate Level</td>\n",
              "      <td>1.000000</td>\n",
              "      <td>2016-05-06T15:54:32Z</td>\n",
              "      <td>Graphic Design</td>\n",
              "    </tr>\n",
              "    <tr>\n",
              "      <th>2062</th>\n",
              "      <td>99324</td>\n",
              "      <td>Acoustic Blues Guitar Lessons</td>\n",
              "      <td>https://www.udemy.com/finger-picking-blues-gui...</td>\n",
              "      <td>False</td>\n",
              "      <td>0</td>\n",
              "      <td>8217</td>\n",
              "      <td>109</td>\n",
              "      <td>10</td>\n",
              "      <td>Intermediate Level</td>\n",
              "      <td>1.000000</td>\n",
              "      <td>2013-09-30T20:45:20Z</td>\n",
              "      <td>Musical Instruments</td>\n",
              "    </tr>\n",
              "    <tr>\n",
              "      <th>2067</th>\n",
              "      <td>112314</td>\n",
              "      <td>Acoustic Blues Guitar Lessons</td>\n",
              "      <td>https://www.udemy.com/jim-bruce-blues-guitar-l...</td>\n",
              "      <td>True</td>\n",
              "      <td>125</td>\n",
              "      <td>1284</td>\n",
              "      <td>136</td>\n",
              "      <td>40</td>\n",
              "      <td>Intermediate Level</td>\n",
              "      <td>12.500000</td>\n",
              "      <td>2013-11-28T08:54:00Z</td>\n",
              "      <td>Musical Instruments</td>\n",
              "    </tr>\n",
              "    <tr>\n",
              "      <th>2130</th>\n",
              "      <td>217628</td>\n",
              "      <td>Aprende a tocar el acordeón de botones</td>\n",
              "      <td>https://www.udemy.com/aprende-a-tocar-el-acord...</td>\n",
              "      <td>True</td>\n",
              "      <td>50</td>\n",
              "      <td>22</td>\n",
              "      <td>4</td>\n",
              "      <td>21</td>\n",
              "      <td>All Levels</td>\n",
              "      <td>3.500000</td>\n",
              "      <td>2014-05-19T15:58:53Z</td>\n",
              "      <td>Musical Instruments</td>\n",
              "    </tr>\n",
              "    <tr>\n",
              "      <th>2158</th>\n",
              "      <td>647276</td>\n",
              "      <td>Acoustic Blues Guitar Lessons</td>\n",
              "      <td>https://www.udemy.com/acoustic-blues-guitar-le...</td>\n",
              "      <td>True</td>\n",
              "      <td>75</td>\n",
              "      <td>189</td>\n",
              "      <td>18</td>\n",
              "      <td>101</td>\n",
              "      <td>Intermediate Level</td>\n",
              "      <td>4.500000</td>\n",
              "      <td>2016-01-10T21:39:42Z</td>\n",
              "      <td>Musical Instruments</td>\n",
              "    </tr>\n",
              "    <tr>\n",
              "      <th>2332</th>\n",
              "      <td>1152334</td>\n",
              "      <td>Aprende a tocar el acordeón de botones</td>\n",
              "      <td>https://www.udemy.com/aprende-a-tocar-el-acord...</td>\n",
              "      <td>True</td>\n",
              "      <td>50</td>\n",
              "      <td>20</td>\n",
              "      <td>6</td>\n",
              "      <td>24</td>\n",
              "      <td>Beginner Level</td>\n",
              "      <td>2.000000</td>\n",
              "      <td>2017-05-17T16:50:41Z</td>\n",
              "      <td>Musical Instruments</td>\n",
              "    </tr>\n",
              "    <tr>\n",
              "      <th>2375</th>\n",
              "      <td>818786</td>\n",
              "      <td>Drum Lessons For Beginners</td>\n",
              "      <td>https://www.udemy.com/the-music-coach-online-d...</td>\n",
              "      <td>True</td>\n",
              "      <td>95</td>\n",
              "      <td>14</td>\n",
              "      <td>1</td>\n",
              "      <td>34</td>\n",
              "      <td>Beginner Level</td>\n",
              "      <td>2.500000</td>\n",
              "      <td>2016-04-13T21:02:15Z</td>\n",
              "      <td>Musical Instruments</td>\n",
              "    </tr>\n",
              "    <tr>\n",
              "      <th>2445</th>\n",
              "      <td>210020</td>\n",
              "      <td>Drum Lessons For Beginners</td>\n",
              "      <td>https://www.udemy.com/drum-lessons-for-beginners/</td>\n",
              "      <td>True</td>\n",
              "      <td>50</td>\n",
              "      <td>70</td>\n",
              "      <td>2</td>\n",
              "      <td>17</td>\n",
              "      <td>Beginner Level</td>\n",
              "      <td>1.500000</td>\n",
              "      <td>2014-05-17T18:24:30Z</td>\n",
              "      <td>Musical Instruments</td>\n",
              "    </tr>\n",
              "    <tr>\n",
              "      <th>2607</th>\n",
              "      <td>178640</td>\n",
              "      <td>Introduction to Web Development</td>\n",
              "      <td>https://www.udemy.com/introduction-to-web-deve...</td>\n",
              "      <td>True</td>\n",
              "      <td>50</td>\n",
              "      <td>5921</td>\n",
              "      <td>35</td>\n",
              "      <td>42</td>\n",
              "      <td>Beginner Level</td>\n",
              "      <td>4.500000</td>\n",
              "      <td>2014-03-11T19:43:30Z</td>\n",
              "      <td>Web Development</td>\n",
              "    </tr>\n",
              "    <tr>\n",
              "      <th>2660</th>\n",
              "      <td>99986</td>\n",
              "      <td>Introduction to Web Development</td>\n",
              "      <td>https://www.udemy.com/introduction-to-web-deve...</td>\n",
              "      <td>True</td>\n",
              "      <td>20</td>\n",
              "      <td>18143</td>\n",
              "      <td>159</td>\n",
              "      <td>15</td>\n",
              "      <td>Beginner Level</td>\n",
              "      <td>2.000000</td>\n",
              "      <td>2013-10-04T13:40:59Z</td>\n",
              "      <td>Web Development</td>\n",
              "    </tr>\n",
              "    <tr>\n",
              "      <th>2806</th>\n",
              "      <td>674608</td>\n",
              "      <td>The Complete Web Developer Masterclass: Beginn...</td>\n",
              "      <td>https://www.udemy.com/webdevelopercourse/</td>\n",
              "      <td>True</td>\n",
              "      <td>195</td>\n",
              "      <td>37141</td>\n",
              "      <td>1813</td>\n",
              "      <td>316</td>\n",
              "      <td>All Levels</td>\n",
              "      <td>51.000000</td>\n",
              "      <td>2016-05-18T00:16:26Z</td>\n",
              "      <td>Web Development</td>\n",
              "    </tr>\n",
              "    <tr>\n",
              "      <th>2877</th>\n",
              "      <td>1112844</td>\n",
              "      <td>The Complete Web Developer Masterclass: Beginn...</td>\n",
              "      <td>https://www.udemy.com/web-development-course-l...</td>\n",
              "      <td>True</td>\n",
              "      <td>20</td>\n",
              "      <td>1030</td>\n",
              "      <td>11</td>\n",
              "      <td>30</td>\n",
              "      <td>All Levels</td>\n",
              "      <td>2.500000</td>\n",
              "      <td>2017-05-12T14:45:01Z</td>\n",
              "      <td>Web Development</td>\n",
              "    </tr>\n",
              "    <tr>\n",
              "      <th>3107</th>\n",
              "      <td>370752</td>\n",
              "      <td>How to Make a Wordpress Website 2017</td>\n",
              "      <td>https://www.udemy.com/wordpress-4-for-beginners/</td>\n",
              "      <td>False</td>\n",
              "      <td>0</td>\n",
              "      <td>12293</td>\n",
              "      <td>235</td>\n",
              "      <td>18</td>\n",
              "      <td>All Levels</td>\n",
              "      <td>3.000000</td>\n",
              "      <td>2015-01-14T22:25:58Z</td>\n",
              "      <td>Web Development</td>\n",
              "    </tr>\n",
              "    <tr>\n",
              "      <th>3274</th>\n",
              "      <td>856968</td>\n",
              "      <td>How to Make a Wordpress Website 2017</td>\n",
              "      <td>https://www.udemy.com/how-to-wordpress/</td>\n",
              "      <td>False</td>\n",
              "      <td>0</td>\n",
              "      <td>2437</td>\n",
              "      <td>137</td>\n",
              "      <td>10</td>\n",
              "      <td>Beginner Level</td>\n",
              "      <td>0.566667</td>\n",
              "      <td>2016-06-07T00:02:04Z</td>\n",
              "      <td>Web Development</td>\n",
              "    </tr>\n",
              "  </tbody>\n",
              "</table>\n",
              "</div>"
            ],
            "text/plain": [
              "      course_id  ...              subject\n",
              "1301     692920  ...       Graphic Design\n",
              "1334     699376  ...       Graphic Design\n",
              "1447     699380  ...       Graphic Design\n",
              "2062      99324  ...  Musical Instruments\n",
              "2067     112314  ...  Musical Instruments\n",
              "2130     217628  ...  Musical Instruments\n",
              "2158     647276  ...  Musical Instruments\n",
              "2332    1152334  ...  Musical Instruments\n",
              "2375     818786  ...  Musical Instruments\n",
              "2445     210020  ...  Musical Instruments\n",
              "2607     178640  ...      Web Development\n",
              "2660      99986  ...      Web Development\n",
              "2806     674608  ...      Web Development\n",
              "2877    1112844  ...      Web Development\n",
              "3107     370752  ...      Web Development\n",
              "3274     856968  ...      Web Development\n",
              "\n",
              "[16 rows x 12 columns]"
            ]
          },
          "execution_count": 117,
          "metadata": {},
          "output_type": "execute_result"
        }
      ]
    },
    {
      "cell_type": "code",
      "metadata": {
        "colab": {
          "base_uri": "https://localhost:8080/",
          "height": 392
        },
        "id": "2AgBZWHAd7YF",
        "outputId": "aa241361-6f87-4c66-92c8-1ef5f0f83074"
      },
      "source": [
        "df_udemy[df_udemy['course_title']==list_duplicate_title[1]]"
      ],
      "execution_count": null,
      "outputs": [
        {
          "data": {
            "text/html": [
              "<div>\n",
              "<style scoped>\n",
              "    .dataframe tbody tr th:only-of-type {\n",
              "        vertical-align: middle;\n",
              "    }\n",
              "\n",
              "    .dataframe tbody tr th {\n",
              "        vertical-align: top;\n",
              "    }\n",
              "\n",
              "    .dataframe thead th {\n",
              "        text-align: right;\n",
              "    }\n",
              "</style>\n",
              "<table border=\"1\" class=\"dataframe\">\n",
              "  <thead>\n",
              "    <tr style=\"text-align: right;\">\n",
              "      <th></th>\n",
              "      <th>course_id</th>\n",
              "      <th>course_title</th>\n",
              "      <th>url</th>\n",
              "      <th>is_paid</th>\n",
              "      <th>price</th>\n",
              "      <th>num_subscribers</th>\n",
              "      <th>num_reviews</th>\n",
              "      <th>num_lectures</th>\n",
              "      <th>level</th>\n",
              "      <th>content_duration</th>\n",
              "      <th>published_timestamp</th>\n",
              "      <th>subject</th>\n",
              "    </tr>\n",
              "  </thead>\n",
              "  <tbody>\n",
              "    <tr>\n",
              "      <th>1301</th>\n",
              "      <td>692920</td>\n",
              "      <td>Creating an animated greeting card via Google ...</td>\n",
              "      <td>https://www.udemy.com/creating-an-animated-gre...</td>\n",
              "      <td>True</td>\n",
              "      <td>20</td>\n",
              "      <td>1504</td>\n",
              "      <td>10</td>\n",
              "      <td>9</td>\n",
              "      <td>Beginner Level</td>\n",
              "      <td>1.5</td>\n",
              "      <td>2016-01-05T20:31:49Z</td>\n",
              "      <td>Graphic Design</td>\n",
              "    </tr>\n",
              "    <tr>\n",
              "      <th>1334</th>\n",
              "      <td>699376</td>\n",
              "      <td>Creating an animated greeting card via Google ...</td>\n",
              "      <td>https://www.udemy.com/creating-an-animated-gre...</td>\n",
              "      <td>True</td>\n",
              "      <td>20</td>\n",
              "      <td>549</td>\n",
              "      <td>10</td>\n",
              "      <td>8</td>\n",
              "      <td>Beginner Level</td>\n",
              "      <td>1.0</td>\n",
              "      <td>2016-04-12T01:24:14Z</td>\n",
              "      <td>Graphic Design</td>\n",
              "    </tr>\n",
              "    <tr>\n",
              "      <th>1447</th>\n",
              "      <td>699380</td>\n",
              "      <td>Creating an animated greeting card via Google ...</td>\n",
              "      <td>https://www.udemy.com/creating-an-animated-gre...</td>\n",
              "      <td>True</td>\n",
              "      <td>20</td>\n",
              "      <td>770</td>\n",
              "      <td>8</td>\n",
              "      <td>8</td>\n",
              "      <td>Intermediate Level</td>\n",
              "      <td>1.0</td>\n",
              "      <td>2016-05-06T15:54:32Z</td>\n",
              "      <td>Graphic Design</td>\n",
              "    </tr>\n",
              "  </tbody>\n",
              "</table>\n",
              "</div>"
            ],
            "text/plain": [
              "      course_id  ...         subject\n",
              "1301     692920  ...  Graphic Design\n",
              "1334     699376  ...  Graphic Design\n",
              "1447     699380  ...  Graphic Design\n",
              "\n",
              "[3 rows x 12 columns]"
            ]
          },
          "execution_count": 118,
          "metadata": {},
          "output_type": "execute_result"
        }
      ]
    },
    {
      "cell_type": "code",
      "metadata": {
        "colab": {
          "base_uri": "https://localhost:8080/",
          "height": 210
        },
        "id": "CMYv1SvQcaY_",
        "outputId": "ee5e4eab-14bc-4cf4-ec61-6d0e190004d3"
      },
      "source": [
        "df_udemy[df_udemy['course_title']==list_duplicate_title[2]]"
      ],
      "execution_count": null,
      "outputs": [
        {
          "data": {
            "text/html": [
              "<div>\n",
              "<style scoped>\n",
              "    .dataframe tbody tr th:only-of-type {\n",
              "        vertical-align: middle;\n",
              "    }\n",
              "\n",
              "    .dataframe tbody tr th {\n",
              "        vertical-align: top;\n",
              "    }\n",
              "\n",
              "    .dataframe thead th {\n",
              "        text-align: right;\n",
              "    }\n",
              "</style>\n",
              "<table border=\"1\" class=\"dataframe\">\n",
              "  <thead>\n",
              "    <tr style=\"text-align: right;\">\n",
              "      <th></th>\n",
              "      <th>course_id</th>\n",
              "      <th>course_title</th>\n",
              "      <th>url</th>\n",
              "      <th>is_paid</th>\n",
              "      <th>price</th>\n",
              "      <th>num_subscribers</th>\n",
              "      <th>num_reviews</th>\n",
              "      <th>num_lectures</th>\n",
              "      <th>level</th>\n",
              "      <th>content_duration</th>\n",
              "      <th>published_timestamp</th>\n",
              "      <th>subject</th>\n",
              "    </tr>\n",
              "  </thead>\n",
              "  <tbody>\n",
              "    <tr>\n",
              "      <th>2375</th>\n",
              "      <td>818786</td>\n",
              "      <td>Drum Lessons For Beginners</td>\n",
              "      <td>https://www.udemy.com/the-music-coach-online-d...</td>\n",
              "      <td>True</td>\n",
              "      <td>95</td>\n",
              "      <td>14</td>\n",
              "      <td>1</td>\n",
              "      <td>34</td>\n",
              "      <td>Beginner Level</td>\n",
              "      <td>2.5</td>\n",
              "      <td>2016-04-13T21:02:15Z</td>\n",
              "      <td>Musical Instruments</td>\n",
              "    </tr>\n",
              "    <tr>\n",
              "      <th>2445</th>\n",
              "      <td>210020</td>\n",
              "      <td>Drum Lessons For Beginners</td>\n",
              "      <td>https://www.udemy.com/drum-lessons-for-beginners/</td>\n",
              "      <td>True</td>\n",
              "      <td>50</td>\n",
              "      <td>70</td>\n",
              "      <td>2</td>\n",
              "      <td>17</td>\n",
              "      <td>Beginner Level</td>\n",
              "      <td>1.5</td>\n",
              "      <td>2014-05-17T18:24:30Z</td>\n",
              "      <td>Musical Instruments</td>\n",
              "    </tr>\n",
              "  </tbody>\n",
              "</table>\n",
              "</div>"
            ],
            "text/plain": [
              "      course_id  ...              subject\n",
              "2375     818786  ...  Musical Instruments\n",
              "2445     210020  ...  Musical Instruments\n",
              "\n",
              "[2 rows x 12 columns]"
            ]
          },
          "execution_count": 99,
          "metadata": {},
          "output_type": "execute_result"
        }
      ]
    },
    {
      "cell_type": "code",
      "metadata": {
        "colab": {
          "base_uri": "https://localhost:8080/",
          "height": 210
        },
        "id": "EM3NM2n8c_6z",
        "outputId": "4b617272-9a91-4bdf-da16-1cdef4ae241f"
      },
      "source": [
        "df_udemy[df_udemy['course_title']==list_duplicate_title[3]]"
      ],
      "execution_count": null,
      "outputs": [
        {
          "data": {
            "text/html": [
              "<div>\n",
              "<style scoped>\n",
              "    .dataframe tbody tr th:only-of-type {\n",
              "        vertical-align: middle;\n",
              "    }\n",
              "\n",
              "    .dataframe tbody tr th {\n",
              "        vertical-align: top;\n",
              "    }\n",
              "\n",
              "    .dataframe thead th {\n",
              "        text-align: right;\n",
              "    }\n",
              "</style>\n",
              "<table border=\"1\" class=\"dataframe\">\n",
              "  <thead>\n",
              "    <tr style=\"text-align: right;\">\n",
              "      <th></th>\n",
              "      <th>course_id</th>\n",
              "      <th>course_title</th>\n",
              "      <th>url</th>\n",
              "      <th>is_paid</th>\n",
              "      <th>price</th>\n",
              "      <th>num_subscribers</th>\n",
              "      <th>num_reviews</th>\n",
              "      <th>num_lectures</th>\n",
              "      <th>level</th>\n",
              "      <th>content_duration</th>\n",
              "      <th>published_timestamp</th>\n",
              "      <th>subject</th>\n",
              "    </tr>\n",
              "  </thead>\n",
              "  <tbody>\n",
              "    <tr>\n",
              "      <th>2607</th>\n",
              "      <td>178640</td>\n",
              "      <td>Introduction to Web Development</td>\n",
              "      <td>https://www.udemy.com/introduction-to-web-deve...</td>\n",
              "      <td>True</td>\n",
              "      <td>50</td>\n",
              "      <td>5921</td>\n",
              "      <td>35</td>\n",
              "      <td>42</td>\n",
              "      <td>Beginner Level</td>\n",
              "      <td>4.5</td>\n",
              "      <td>2014-03-11T19:43:30Z</td>\n",
              "      <td>Web Development</td>\n",
              "    </tr>\n",
              "    <tr>\n",
              "      <th>2660</th>\n",
              "      <td>99986</td>\n",
              "      <td>Introduction to Web Development</td>\n",
              "      <td>https://www.udemy.com/introduction-to-web-deve...</td>\n",
              "      <td>True</td>\n",
              "      <td>20</td>\n",
              "      <td>18143</td>\n",
              "      <td>159</td>\n",
              "      <td>15</td>\n",
              "      <td>Beginner Level</td>\n",
              "      <td>2.0</td>\n",
              "      <td>2013-10-04T13:40:59Z</td>\n",
              "      <td>Web Development</td>\n",
              "    </tr>\n",
              "  </tbody>\n",
              "</table>\n",
              "</div>"
            ],
            "text/plain": [
              "      course_id  ...          subject\n",
              "2607     178640  ...  Web Development\n",
              "2660      99986  ...  Web Development\n",
              "\n",
              "[2 rows x 12 columns]"
            ]
          },
          "execution_count": 122,
          "metadata": {},
          "output_type": "execute_result"
        }
      ]
    },
    {
      "cell_type": "code",
      "metadata": {
        "colab": {
          "base_uri": "https://localhost:8080/"
        },
        "id": "b4vTGh4qtkZc",
        "outputId": "5d216eda-32f9-4f32-d443-e0b5460c87d2"
      },
      "source": [
        "df_udemy['num_subscribers'].describe()"
      ],
      "execution_count": null,
      "outputs": [
        {
          "output_type": "execute_result",
          "data": {
            "text/plain": [
              "count      3672.000000\n",
              "mean       3190.586874\n",
              "std        9488.105448\n",
              "min           0.000000\n",
              "25%         111.750000\n",
              "50%         912.000000\n",
              "75%        2548.750000\n",
              "max      268923.000000\n",
              "Name: num_subscribers, dtype: float64"
            ]
          },
          "metadata": {},
          "execution_count": 154
        }
      ]
    },
    {
      "cell_type": "code",
      "metadata": {
        "colab": {
          "base_uri": "https://localhost:8080/"
        },
        "id": "U-n16ck4xJCu",
        "outputId": "ce426d3d-f6d3-4244-d6ba-a84777982735"
      },
      "source": [
        "df_udemy['num_lectures'].describe()"
      ],
      "execution_count": null,
      "outputs": [
        {
          "output_type": "execute_result",
          "data": {
            "text/plain": [
              "count    3672.000000\n",
              "mean       40.140251\n",
              "std        50.417102\n",
              "min         0.000000\n",
              "25%        15.000000\n",
              "50%        25.000000\n",
              "75%        46.000000\n",
              "max       779.000000\n",
              "Name: num_lectures, dtype: float64"
            ]
          },
          "metadata": {},
          "execution_count": 155
        }
      ]
    },
    {
      "cell_type": "code",
      "metadata": {
        "colab": {
          "base_uri": "https://localhost:8080/"
        },
        "id": "1xMIolyRxYmU",
        "outputId": "bf2cb37e-ed9f-498c-fa0f-55622b9e7d99"
      },
      "source": [
        "df_udemy['price'].describe()"
      ],
      "execution_count": null,
      "outputs": [
        {
          "output_type": "execute_result",
          "data": {
            "text/plain": [
              "count    3672.000000\n",
              "mean       66.102941\n",
              "std        61.035920\n",
              "min         0.000000\n",
              "25%        20.000000\n",
              "50%        45.000000\n",
              "75%        95.000000\n",
              "max       200.000000\n",
              "Name: price, dtype: float64"
            ]
          },
          "metadata": {},
          "execution_count": 156
        }
      ]
    },
    {
      "cell_type": "code",
      "metadata": {
        "colab": {
          "base_uri": "https://localhost:8080/",
          "height": 619
        },
        "id": "EwoyDSdguXZK",
        "outputId": "ac07b705-e2c7-41cb-e275-1303d46315ec"
      },
      "source": [
        "sns.distplot(x=df_udemy['num_lectures'],kde=False,bins=100)"
      ],
      "execution_count": null,
      "outputs": [
        {
          "output_type": "stream",
          "name": "stderr",
          "text": [
            "/usr/local/lib/python3.7/dist-packages/seaborn/distributions.py:2619: FutureWarning: `distplot` is a deprecated function and will be removed in a future version. Please adapt your code to use either `displot` (a figure-level function with similar flexibility) or `histplot` (an axes-level function for histograms).\n",
            "  warnings.warn(msg, FutureWarning)\n"
          ]
        },
        {
          "output_type": "execute_result",
          "data": {
            "text/plain": [
              "<matplotlib.axes._subplots.AxesSubplot at 0x7fb44ac193d0>"
            ]
          },
          "metadata": {},
          "execution_count": 176
        },
        {
          "output_type": "display_data",
          "data": {
            "image/png": "[encoded data removed]",
            "text/plain": [
              "<Figure size 648x648 with 1 Axes>"
            ]
          },
          "metadata": {}
        }
      ]
    },
    {
      "cell_type": "code",
      "metadata": {
        "colab": {
          "base_uri": "https://localhost:8080/",
          "height": 619
        },
        "id": "qF7CZtKV19hd",
        "outputId": "331cf378-8ff9-4c5e-82a7-b7f1305d0c47"
      },
      "source": [
        "sns.distplot(x=df_udemy['price'],kde=False)"
      ],
      "execution_count": null,
      "outputs": [
        {
          "output_type": "stream",
          "name": "stderr",
          "text": [
            "/usr/local/lib/python3.7/dist-packages/seaborn/distributions.py:2619: FutureWarning: `distplot` is a deprecated function and will be removed in a future version. Please adapt your code to use either `displot` (a figure-level function with similar flexibility) or `histplot` (an axes-level function for histograms).\n",
            "  warnings.warn(msg, FutureWarning)\n"
          ]
        },
        {
          "output_type": "execute_result",
          "data": {
            "text/plain": [
              "<matplotlib.axes._subplots.AxesSubplot at 0x7fb44a9173d0>"
            ]
          },
          "metadata": {},
          "execution_count": 178
        },
        {
          "output_type": "display_data",
          "data": {
            "image/png": "[encoded data removed]",
            "text/plain": [
              "<Figure size 648x648 with 1 Axes>"
            ]
          },
          "metadata": {}
        }
      ]
    },
    {
      "cell_type": "code",
      "metadata": {
        "colab": {
          "base_uri": "https://localhost:8080/",
          "height": 776
        },
        "id": "m01QyOHBxg2e",
        "outputId": "50bb462a-f046-40d1-da15-324ad7881aa1"
      },
      "source": [
        "sns.pairplot(data=df_udemy[['price','num_lectures','num_subscribers']], height=3.5, aspect=1.3,kind='kde')"
      ],
      "execution_count": null,
      "outputs": [
        {
          "output_type": "execute_result",
          "data": {
            "text/plain": [
              "<seaborn.axisgrid.PairGrid at 0x7fb44c8f7a50>"
            ]
          },
          "metadata": {},
          "execution_count": 169
        },
        {
          "output_type": "display_data",
          "data": {
            "image/png": "[encoded data removed]",
            "text/plain": [
              "<Figure size 982.8x756 with 12 Axes>"
            ]
          },
          "metadata": {}
        }
      ]
    },
    {
      "cell_type": "markdown",
      "metadata": {
        "id": "I44eCYgOgUFr"
      },
      "source": [
        "### From Courses Title we understand that coures titles can be duplicated but with different attributes as url , price and number of subscribers"
      ]
    },
    {
      "cell_type": "code",
      "metadata": {
        "colab": {
          "base_uri": "https://localhost:8080/"
        },
        "id": "bdwBzsjfdiVR",
        "outputId": "fb9b3332-f4b2-4b41-877f-7dea468449ca"
      },
      "source": [
        "df_udemy['is_paid'].unique()"
      ],
      "execution_count": null,
      "outputs": [
        {
          "data": {
            "text/plain": [
              "array([ True, False])"
            ]
          },
          "execution_count": 126,
          "metadata": {},
          "output_type": "execute_result"
        }
      ]
    },
    {
      "cell_type": "code",
      "metadata": {
        "colab": {
          "base_uri": "https://localhost:8080/"
        },
        "id": "KBLqnpqlhKrA",
        "outputId": "7def2a66-3c6b-4f9c-d4f2-af9651c52884"
      },
      "source": [
        "df_udemy['is_paid'].value_counts()"
      ],
      "execution_count": null,
      "outputs": [
        {
          "data": {
            "text/plain": [
              "True     3362\n",
              "False     310\n",
              "Name: is_paid, dtype: int64"
            ]
          },
          "execution_count": 127,
          "metadata": {},
          "output_type": "execute_result"
        }
      ]
    },
    {
      "cell_type": "code",
      "metadata": {
        "colab": {
          "base_uri": "https://localhost:8080/",
          "height": 580
        },
        "id": "IzNYvU8Sic75",
        "outputId": "eee85e3a-eb64-4039-b5cf-f4ec83c1a7c1"
      },
      "source": [
        "sns.countplot(x=df_udemy['is_paid'])"
      ],
      "execution_count": null,
      "outputs": [
        {
          "output_type": "execute_result",
          "data": {
            "text/plain": [
              "<matplotlib.axes._subplots.AxesSubplot at 0x7fb45f720210>"
            ]
          },
          "metadata": {},
          "execution_count": 130
        },
        {
          "output_type": "display_data",
          "data": {
            "image/png": "[encoded data removed]",
            "text/plain": [
              "<Figure size 648x648 with 1 Axes>"
            ]
          },
          "metadata": {}
        }
      ]
    },
    {
      "cell_type": "code",
      "metadata": {
        "colab": {
          "base_uri": "https://localhost:8080/"
        },
        "id": "MM7C43zSp9zT",
        "outputId": "d0c2d6e5-415c-48f2-d4e7-111e3b33c210"
      },
      "source": [
        "df_udemy['price'][df_udemy['is_paid']==False]"
      ],
      "execution_count": null,
      "outputs": [
        {
          "output_type": "execute_result",
          "data": {
            "text/plain": [
              "95      0\n",
              "103     0\n",
              "106     0\n",
              "108     0\n",
              "112     0\n",
              "       ..\n",
              "3638    0\n",
              "3643    0\n",
              "3651    0\n",
              "3665    0\n",
              "3668    0\n",
              "Name: price, Length: 310, dtype: int64"
            ]
          },
          "metadata": {},
          "execution_count": 131
        }
      ]
    },
    {
      "cell_type": "code",
      "metadata": {
        "colab": {
          "base_uri": "https://localhost:8080/"
        },
        "id": "6u_J8iRCqK8u",
        "outputId": "07f13cd9-7968-4caa-a773-c377b018f3c0"
      },
      "source": [
        "df_udemy['price'][df_udemy['is_paid']==False].value_counts()"
      ],
      "execution_count": null,
      "outputs": [
        {
          "output_type": "execute_result",
          "data": {
            "text/plain": [
              "0    310\n",
              "Name: price, dtype: int64"
            ]
          },
          "metadata": {},
          "execution_count": 132
        }
      ]
    },
    {
      "cell_type": "markdown",
      "metadata": {
        "id": "TyETnUrnqPGp"
      },
      "source": [
        "### From here we understand that less than 1%courses  is not paid"
      ]
    },
    {
      "cell_type": "code",
      "metadata": {
        "colab": {
          "base_uri": "https://localhost:8080/",
          "height": 580
        },
        "id": "tr-PkscvqNYd",
        "outputId": "242a0fdb-86da-4c70-d3be-92148951e74e"
      },
      "source": [
        "sns.barplot(data=df_udemy,x='is_paid',y='num_subscribers')"
      ],
      "execution_count": null,
      "outputs": [
        {
          "output_type": "execute_result",
          "data": {
            "text/plain": [
              "<matplotlib.axes._subplots.AxesSubplot at 0x7fb45f500650>"
            ]
          },
          "metadata": {},
          "execution_count": 133
        },
        {
          "output_type": "display_data",
          "data": {
            "image/png": "[encoded data removed]",
            "text/plain": [
              "<Figure size 648x648 with 1 Axes>"
            ]
          },
          "metadata": {}
        }
      ]
    },
    {
      "cell_type": "code",
      "metadata": {
        "id": "egiYn7uTtS8J"
      },
      "source": [
        "sns.barplot(data=df_udemy,x='is_paid',y='num_lectures')"
      ],
      "execution_count": null,
      "outputs": []
    },
    {
      "cell_type": "code",
      "metadata": {
        "colab": {
          "base_uri": "https://localhost:8080/",
          "height": 580
        },
        "id": "FLdLzrHG4Zvf",
        "outputId": "d75a9541-5ee9-48df-9b54-1e1771eb2e73"
      },
      "source": [
        "sns.countplot(data=df_udemy,x='level')"
      ],
      "execution_count": null,
      "outputs": [
        {
          "output_type": "execute_result",
          "data": {
            "text/plain": [
              "<matplotlib.axes._subplots.AxesSubplot at 0x7fb44a8f1ed0>"
            ]
          },
          "metadata": {},
          "execution_count": 181
        },
        {
          "output_type": "display_data",
          "data": {
            "image/png": "[encoded data removed]",
            "text/plain": [
              "<Figure size 648x648 with 1 Axes>"
            ]
          },
          "metadata": {}
        }
      ]
    },
    {
      "cell_type": "code",
      "metadata": {
        "colab": {
          "base_uri": "https://localhost:8080/",
          "height": 580
        },
        "id": "-M3frEg85trc",
        "outputId": "c53d771d-c74b-483b-8b19-0c989f97d443"
      },
      "source": [
        "sns.barplot(data=df_udemy,x='level',y='num_subscribers')"
      ],
      "execution_count": null,
      "outputs": [
        {
          "output_type": "execute_result",
          "data": {
            "text/plain": [
              "<matplotlib.axes._subplots.AxesSubplot at 0x7fb44a7e1290>"
            ]
          },
          "metadata": {},
          "execution_count": 182
        },
        {
          "output_type": "display_data",
          "data": {
            "image/png": "[encoded data removed]",
            "text/plain": [
              "<Figure size 648x648 with 1 Axes>"
            ]
          },
          "metadata": {}
        }
      ]
    },
    {
      "cell_type": "code",
      "metadata": {
        "colab": {
          "base_uri": "https://localhost:8080/",
          "height": 580
        },
        "id": "MymdqHFV6e2Y",
        "outputId": "5bd7e7ea-9cac-46e4-f312-901d34790782"
      },
      "source": [
        "sns.barplot(data=df_udemy,x='level',y='price')"
      ],
      "execution_count": null,
      "outputs": [
        {
          "output_type": "execute_result",
          "data": {
            "text/plain": [
              "<matplotlib.axes._subplots.AxesSubplot at 0x7fb44a7f3f50>"
            ]
          },
          "metadata": {},
          "execution_count": 183
        },
        {
          "output_type": "display_data",
          "data": {
            "image/png": "[encoded data removed]",
            "text/plain": [
              "<Figure size 648x648 with 1 Axes>"
            ]
          },
          "metadata": {}
        }
      ]
    },
    {
      "cell_type": "code",
      "metadata": {
        "colab": {
          "base_uri": "https://localhost:8080/",
          "height": 580
        },
        "id": "t6hIl9eu6zh6",
        "outputId": "f7616b63-9b96-4254-abf3-96bab6a5e70a"
      },
      "source": [
        "sns.barplot(data=df_udemy,x='level',y='num_lectures')"
      ],
      "execution_count": null,
      "outputs": [
        {
          "output_type": "execute_result",
          "data": {
            "text/plain": [
              "<matplotlib.axes._subplots.AxesSubplot at 0x7fb44a6c6cd0>"
            ]
          },
          "metadata": {},
          "execution_count": 184
        },
        {
          "output_type": "display_data",
          "data": {
            "image/png": "[encoded data removed]",
            "text/plain": [
              "<Figure size 648x648 with 1 Axes>"
            ]
          },
          "metadata": {}
        }
      ]
    },
    {
      "cell_type": "code",
      "metadata": {
        "colab": {
          "base_uri": "https://localhost:8080/",
          "height": 580
        },
        "id": "V9EJpLLIr7qZ",
        "outputId": "7dd2bfe7-4737-4bb4-f4c7-f651dbe91839"
      },
      "source": [
        "sns.barplot(data=df_udemy,x='level',y='num_subscribers',hue='is_paid')"
      ],
      "execution_count": null,
      "outputs": [
        {
          "output_type": "execute_result",
          "data": {
            "text/plain": [
              "<matplotlib.axes._subplots.AxesSubplot at 0x7fb44a6a2750>"
            ]
          },
          "metadata": {},
          "execution_count": 186
        },
        {
          "output_type": "display_data",
          "data": {
            "image/png": "[encoded data removed]",
            "text/plain": [
              "<Figure size 648x648 with 1 Axes>"
            ]
          },
          "metadata": {}
        }
      ]
    },
    {
      "cell_type": "code",
      "metadata": {
        "id": "_eNOwNpu_KSi"
      },
      "source": [
        ""
      ],
      "execution_count": null,
      "outputs": []
    },
    {
      "cell_type": "code",
      "metadata": {
        "id": "qFSc0sIF_JxZ"
      },
      "source": [
        ""
      ],
      "execution_count": null,
      "outputs": []
    },
    {
      "cell_type": "code",
      "metadata": {
        "colab": {
          "base_uri": "https://localhost:8080/",
          "height": 1000
        },
        "id": "0phkRrya73xt",
        "outputId": "f2fc5a41-4615-498f-db1a-8ac167aeb172"
      },
      "source": [
        "df_udemy.groupby('level').describe().T. drop('course_id',axis=0)"
      ],
      "execution_count": null,
      "outputs": [
        {
          "output_type": "execute_result",
          "data": {
            "text/html": [
              "<div>\n",
              "<style scoped>\n",
              "    .dataframe tbody tr th:only-of-type {\n",
              "        vertical-align: middle;\n",
              "    }\n",
              "\n",
              "    .dataframe tbody tr th {\n",
              "        vertical-align: top;\n",
              "    }\n",
              "\n",
              "    .dataframe thead th {\n",
              "        text-align: right;\n",
              "    }\n",
              "</style>\n",
              "<table border=\"1\" class=\"dataframe\">\n",
              "  <thead>\n",
              "    <tr style=\"text-align: right;\">\n",
              "      <th></th>\n",
              "      <th>level</th>\n",
              "      <th>All Levels</th>\n",
              "      <th>Beginner Level</th>\n",
              "      <th>Expert Level</th>\n",
              "      <th>Intermediate Level</th>\n",
              "    </tr>\n",
              "  </thead>\n",
              "  <tbody>\n",
              "    <tr>\n",
              "      <th rowspan=\"8\" valign=\"top\">price</th>\n",
              "      <th>count</th>\n",
              "      <td>1925.000000</td>\n",
              "      <td>1268.000000</td>\n",
              "      <td>58.000000</td>\n",
              "      <td>421.000000</td>\n",
              "    </tr>\n",
              "    <tr>\n",
              "      <th>mean</th>\n",
              "      <td>73.090909</td>\n",
              "      <td>55.737382</td>\n",
              "      <td>91.120690</td>\n",
              "      <td>61.923990</td>\n",
              "    </tr>\n",
              "    <tr>\n",
              "      <th>std</th>\n",
              "      <td>63.853470</td>\n",
              "      <td>56.620042</td>\n",
              "      <td>62.175777</td>\n",
              "      <td>55.101456</td>\n",
              "    </tr>\n",
              "    <tr>\n",
              "      <th>min</th>\n",
              "      <td>0.000000</td>\n",
              "      <td>0.000000</td>\n",
              "      <td>20.000000</td>\n",
              "      <td>0.000000</td>\n",
              "    </tr>\n",
              "    <tr>\n",
              "      <th>25%</th>\n",
              "      <td>20.000000</td>\n",
              "      <td>20.000000</td>\n",
              "      <td>50.000000</td>\n",
              "      <td>20.000000</td>\n",
              "    </tr>\n",
              "    <tr>\n",
              "      <th>50%</th>\n",
              "      <td>50.000000</td>\n",
              "      <td>35.000000</td>\n",
              "      <td>60.000000</td>\n",
              "      <td>50.000000</td>\n",
              "    </tr>\n",
              "    <tr>\n",
              "      <th>75%</th>\n",
              "      <td>100.000000</td>\n",
              "      <td>75.000000</td>\n",
              "      <td>125.000000</td>\n",
              "      <td>75.000000</td>\n",
              "    </tr>\n",
              "    <tr>\n",
              "      <th>max</th>\n",
              "      <td>200.000000</td>\n",
              "      <td>200.000000</td>\n",
              "      <td>200.000000</td>\n",
              "      <td>200.000000</td>\n",
              "    </tr>\n",
              "    <tr>\n",
              "      <th rowspan=\"8\" valign=\"top\">num_subscribers</th>\n",
              "      <th>count</th>\n",
              "      <td>1925.000000</td>\n",
              "      <td>1268.000000</td>\n",
              "      <td>58.000000</td>\n",
              "      <td>421.000000</td>\n",
              "    </tr>\n",
              "    <tr>\n",
              "      <th>mean</th>\n",
              "      <td>3569.761558</td>\n",
              "      <td>3195.459779</td>\n",
              "      <td>865.448276</td>\n",
              "      <td>1762.482185</td>\n",
              "    </tr>\n",
              "    <tr>\n",
              "      <th>std</th>\n",
              "      <td>10887.711249</td>\n",
              "      <td>8707.357492</td>\n",
              "      <td>1139.629259</td>\n",
              "      <td>3387.240039</td>\n",
              "    </tr>\n",
              "    <tr>\n",
              "      <th>min</th>\n",
              "      <td>0.000000</td>\n",
              "      <td>0.000000</td>\n",
              "      <td>1.000000</td>\n",
              "      <td>0.000000</td>\n",
              "    </tr>\n",
              "    <tr>\n",
              "      <th>25%</th>\n",
              "      <td>165.000000</td>\n",
              "      <td>81.000000</td>\n",
              "      <td>56.750000</td>\n",
              "      <td>68.000000</td>\n",
              "    </tr>\n",
              "    <tr>\n",
              "      <th>50%</th>\n",
              "      <td>1000.000000</td>\n",
              "      <td>962.000000</td>\n",
              "      <td>459.000000</td>\n",
              "      <td>481.000000</td>\n",
              "    </tr>\n",
              "    <tr>\n",
              "      <th>75%</th>\n",
              "      <td>2570.000000</td>\n",
              "      <td>2929.500000</td>\n",
              "      <td>1253.750000</td>\n",
              "      <td>1758.000000</td>\n",
              "    </tr>\n",
              "    <tr>\n",
              "      <th>max</th>\n",
              "      <td>268923.000000</td>\n",
              "      <td>161029.000000</td>\n",
              "      <td>5172.000000</td>\n",
              "      <td>29167.000000</td>\n",
              "    </tr>\n",
              "    <tr>\n",
              "      <th rowspan=\"8\" valign=\"top\">num_reviews</th>\n",
              "      <th>count</th>\n",
              "      <td>1925.000000</td>\n",
              "      <td>1268.000000</td>\n",
              "      <td>58.000000</td>\n",
              "      <td>421.000000</td>\n",
              "    </tr>\n",
              "    <tr>\n",
              "      <th>mean</th>\n",
              "      <td>209.751688</td>\n",
              "      <td>101.794164</td>\n",
              "      <td>40.224138</td>\n",
              "      <td>92.674584</td>\n",
              "    </tr>\n",
              "    <tr>\n",
              "      <th>std</th>\n",
              "      <td>1249.232916</td>\n",
              "      <td>368.946224</td>\n",
              "      <td>57.372297</td>\n",
              "      <td>269.075730</td>\n",
              "    </tr>\n",
              "    <tr>\n",
              "      <th>min</th>\n",
              "      <td>0.000000</td>\n",
              "      <td>0.000000</td>\n",
              "      <td>0.000000</td>\n",
              "      <td>0.000000</td>\n",
              "    </tr>\n",
              "    <tr>\n",
              "      <th>25%</th>\n",
              "      <td>5.000000</td>\n",
              "      <td>4.000000</td>\n",
              "      <td>5.000000</td>\n",
              "      <td>3.000000</td>\n",
              "    </tr>\n",
              "    <tr>\n",
              "      <th>50%</th>\n",
              "      <td>19.000000</td>\n",
              "      <td>17.000000</td>\n",
              "      <td>22.000000</td>\n",
              "      <td>14.000000</td>\n",
              "    </tr>\n",
              "    <tr>\n",
              "      <th>75%</th>\n",
              "      <td>72.000000</td>\n",
              "      <td>59.000000</td>\n",
              "      <td>45.500000</td>\n",
              "      <td>63.000000</td>\n",
              "    </tr>\n",
              "    <tr>\n",
              "      <th>max</th>\n",
              "      <td>27445.000000</td>\n",
              "      <td>5924.000000</td>\n",
              "      <td>249.000000</td>\n",
              "      <td>3326.000000</td>\n",
              "    </tr>\n",
              "    <tr>\n",
              "      <th rowspan=\"8\" valign=\"top\">num_lectures</th>\n",
              "      <th>count</th>\n",
              "      <td>1925.000000</td>\n",
              "      <td>1268.000000</td>\n",
              "      <td>58.000000</td>\n",
              "      <td>421.000000</td>\n",
              "    </tr>\n",
              "    <tr>\n",
              "      <th>mean</th>\n",
              "      <td>46.030649</td>\n",
              "      <td>33.022082</td>\n",
              "      <td>30.775862</td>\n",
              "      <td>35.935867</td>\n",
              "    </tr>\n",
              "    <tr>\n",
              "      <th>std</th>\n",
              "      <td>58.978489</td>\n",
              "      <td>38.243945</td>\n",
              "      <td>27.091167</td>\n",
              "      <td>37.802156</td>\n",
              "    </tr>\n",
              "    <tr>\n",
              "      <th>min</th>\n",
              "      <td>0.000000</td>\n",
              "      <td>5.000000</td>\n",
              "      <td>6.000000</td>\n",
              "      <td>5.000000</td>\n",
              "    </tr>\n",
              "    <tr>\n",
              "      <th>25%</th>\n",
              "      <td>16.000000</td>\n",
              "      <td>14.000000</td>\n",
              "      <td>11.500000</td>\n",
              "      <td>12.000000</td>\n",
              "    </tr>\n",
              "    <tr>\n",
              "      <th>50%</th>\n",
              "      <td>27.000000</td>\n",
              "      <td>23.000000</td>\n",
              "      <td>21.500000</td>\n",
              "      <td>23.000000</td>\n",
              "    </tr>\n",
              "    <tr>\n",
              "      <th>75%</th>\n",
              "      <td>52.000000</td>\n",
              "      <td>38.000000</td>\n",
              "      <td>42.750000</td>\n",
              "      <td>43.000000</td>\n",
              "    </tr>\n",
              "    <tr>\n",
              "      <th>max</th>\n",
              "      <td>544.000000</td>\n",
              "      <td>779.000000</td>\n",
              "      <td>157.000000</td>\n",
              "      <td>320.000000</td>\n",
              "    </tr>\n",
              "    <tr>\n",
              "      <th rowspan=\"8\" valign=\"top\">content_duration</th>\n",
              "      <th>count</th>\n",
              "      <td>1925.000000</td>\n",
              "      <td>1268.000000</td>\n",
              "      <td>58.000000</td>\n",
              "      <td>421.000000</td>\n",
              "    </tr>\n",
              "    <tr>\n",
              "      <th>mean</th>\n",
              "      <td>4.874000</td>\n",
              "      <td>3.094401</td>\n",
              "      <td>2.905460</td>\n",
              "      <td>3.733333</td>\n",
              "    </tr>\n",
              "    <tr>\n",
              "      <th>std</th>\n",
              "      <td>7.311647</td>\n",
              "      <td>4.052303</td>\n",
              "      <td>2.530489</td>\n",
              "      <td>4.395075</td>\n",
              "    </tr>\n",
              "    <tr>\n",
              "      <th>min</th>\n",
              "      <td>0.000000</td>\n",
              "      <td>0.450000</td>\n",
              "      <td>0.516667</td>\n",
              "      <td>0.500000</td>\n",
              "    </tr>\n",
              "    <tr>\n",
              "      <th>25%</th>\n",
              "      <td>1.500000</td>\n",
              "      <td>1.000000</td>\n",
              "      <td>1.000000</td>\n",
              "      <td>1.500000</td>\n",
              "    </tr>\n",
              "    <tr>\n",
              "      <th>50%</th>\n",
              "      <td>2.500000</td>\n",
              "      <td>2.000000</td>\n",
              "      <td>2.000000</td>\n",
              "      <td>2.000000</td>\n",
              "    </tr>\n",
              "    <tr>\n",
              "      <th>75%</th>\n",
              "      <td>5.500000</td>\n",
              "      <td>3.500000</td>\n",
              "      <td>3.875000</td>\n",
              "      <td>4.500000</td>\n",
              "    </tr>\n",
              "    <tr>\n",
              "      <th>max</th>\n",
              "      <td>76.500000</td>\n",
              "      <td>78.500000</td>\n",
              "      <td>12.500000</td>\n",
              "      <td>31.500000</td>\n",
              "    </tr>\n",
              "  </tbody>\n",
              "</table>\n",
              "</div>"
            ],
            "text/plain": [
              "level                      All Levels  ...  Intermediate Level\n",
              "price            count    1925.000000  ...          421.000000\n",
              "                 mean       73.090909  ...           61.923990\n",
              "                 std        63.853470  ...           55.101456\n",
              "                 min         0.000000  ...            0.000000\n",
              "                 25%        20.000000  ...           20.000000\n",
              "                 50%        50.000000  ...           50.000000\n",
              "                 75%       100.000000  ...           75.000000\n",
              "                 max       200.000000  ...          200.000000\n",
              "num_subscribers  count    1925.000000  ...          421.000000\n",
              "                 mean     3569.761558  ...         1762.482185\n",
              "                 std     10887.711249  ...         3387.240039\n",
              "                 min         0.000000  ...            0.000000\n",
              "                 25%       165.000000  ...           68.000000\n",
              "                 50%      1000.000000  ...          481.000000\n",
              "                 75%      2570.000000  ...         1758.000000\n",
              "                 max    268923.000000  ...        29167.000000\n",
              "num_reviews      count    1925.000000  ...          421.000000\n",
              "                 mean      209.751688  ...           92.674584\n",
              "                 std      1249.232916  ...          269.075730\n",
              "                 min         0.000000  ...            0.000000\n",
              "                 25%         5.000000  ...            3.000000\n",
              "                 50%        19.000000  ...           14.000000\n",
              "                 75%        72.000000  ...           63.000000\n",
              "                 max     27445.000000  ...         3326.000000\n",
              "num_lectures     count    1925.000000  ...          421.000000\n",
              "                 mean       46.030649  ...           35.935867\n",
              "                 std        58.978489  ...           37.802156\n",
              "                 min         0.000000  ...            5.000000\n",
              "                 25%        16.000000  ...           12.000000\n",
              "                 50%        27.000000  ...           23.000000\n",
              "                 75%        52.000000  ...           43.000000\n",
              "                 max       544.000000  ...          320.000000\n",
              "content_duration count    1925.000000  ...          421.000000\n",
              "                 mean        4.874000  ...            3.733333\n",
              "                 std         7.311647  ...            4.395075\n",
              "                 min         0.000000  ...            0.500000\n",
              "                 25%         1.500000  ...            1.500000\n",
              "                 50%         2.500000  ...            2.000000\n",
              "                 75%         5.500000  ...            4.500000\n",
              "                 max        76.500000  ...           31.500000\n",
              "\n",
              "[40 rows x 4 columns]"
            ]
          },
          "metadata": {},
          "execution_count": 189
        }
      ]
    },
    {
      "cell_type": "code",
      "metadata": {
        "colab": {
          "base_uri": "https://localhost:8080/",
          "height": 1000
        },
        "id": "PpSAfB7N9a5h",
        "outputId": "cb54d2ee-bcf5-41f0-bf6b-eff342464c87"
      },
      "source": [
        "df_udemy.groupby('is_paid').describe().T. drop('course_id',axis=0)"
      ],
      "execution_count": null,
      "outputs": [
        {
          "output_type": "execute_result",
          "data": {
            "text/html": [
              "<div>\n",
              "<style scoped>\n",
              "    .dataframe tbody tr th:only-of-type {\n",
              "        vertical-align: middle;\n",
              "    }\n",
              "\n",
              "    .dataframe tbody tr th {\n",
              "        vertical-align: top;\n",
              "    }\n",
              "\n",
              "    .dataframe thead th {\n",
              "        text-align: right;\n",
              "    }\n",
              "</style>\n",
              "<table border=\"1\" class=\"dataframe\">\n",
              "  <thead>\n",
              "    <tr style=\"text-align: right;\">\n",
              "      <th></th>\n",
              "      <th>is_paid</th>\n",
              "      <th>False</th>\n",
              "      <th>True</th>\n",
              "    </tr>\n",
              "  </thead>\n",
              "  <tbody>\n",
              "    <tr>\n",
              "      <th rowspan=\"8\" valign=\"top\">price</th>\n",
              "      <th>count</th>\n",
              "      <td>310.000000</td>\n",
              "      <td>3362.000000</td>\n",
              "    </tr>\n",
              "    <tr>\n",
              "      <th>mean</th>\n",
              "      <td>0.000000</td>\n",
              "      <td>72.198096</td>\n",
              "    </tr>\n",
              "    <tr>\n",
              "      <th>std</th>\n",
              "      <td>0.000000</td>\n",
              "      <td>60.239545</td>\n",
              "    </tr>\n",
              "    <tr>\n",
              "      <th>min</th>\n",
              "      <td>0.000000</td>\n",
              "      <td>20.000000</td>\n",
              "    </tr>\n",
              "    <tr>\n",
              "      <th>25%</th>\n",
              "      <td>0.000000</td>\n",
              "      <td>25.000000</td>\n",
              "    </tr>\n",
              "    <tr>\n",
              "      <th>50%</th>\n",
              "      <td>0.000000</td>\n",
              "      <td>50.000000</td>\n",
              "    </tr>\n",
              "    <tr>\n",
              "      <th>75%</th>\n",
              "      <td>0.000000</td>\n",
              "      <td>100.000000</td>\n",
              "    </tr>\n",
              "    <tr>\n",
              "      <th>max</th>\n",
              "      <td>0.000000</td>\n",
              "      <td>200.000000</td>\n",
              "    </tr>\n",
              "    <tr>\n",
              "      <th rowspan=\"8\" valign=\"top\">num_subscribers</th>\n",
              "      <th>count</th>\n",
              "      <td>310.000000</td>\n",
              "      <td>3362.000000</td>\n",
              "    </tr>\n",
              "    <tr>\n",
              "      <th>mean</th>\n",
              "      <td>11533.951613</td>\n",
              "      <td>2421.270077</td>\n",
              "    </tr>\n",
              "    <tr>\n",
              "      <th>std</th>\n",
              "      <td>23620.569473</td>\n",
              "      <td>6326.164761</td>\n",
              "    </tr>\n",
              "    <tr>\n",
              "      <th>min</th>\n",
              "      <td>1.000000</td>\n",
              "      <td>0.000000</td>\n",
              "    </tr>\n",
              "    <tr>\n",
              "      <th>25%</th>\n",
              "      <td>2222.250000</td>\n",
              "      <td>90.250000</td>\n",
              "    </tr>\n",
              "    <tr>\n",
              "      <th>50%</th>\n",
              "      <td>4869.500000</td>\n",
              "      <td>736.000000</td>\n",
              "    </tr>\n",
              "    <tr>\n",
              "      <th>75%</th>\n",
              "      <td>10637.500000</td>\n",
              "      <td>2058.250000</td>\n",
              "    </tr>\n",
              "    <tr>\n",
              "      <th>max</th>\n",
              "      <td>268923.000000</td>\n",
              "      <td>121584.000000</td>\n",
              "    </tr>\n",
              "    <tr>\n",
              "      <th rowspan=\"8\" valign=\"top\">num_reviews</th>\n",
              "      <th>count</th>\n",
              "      <td>310.000000</td>\n",
              "      <td>3362.000000</td>\n",
              "    </tr>\n",
              "    <tr>\n",
              "      <th>mean</th>\n",
              "      <td>425.929032</td>\n",
              "      <td>131.516359</td>\n",
              "    </tr>\n",
              "    <tr>\n",
              "      <th>std</th>\n",
              "      <td>994.282556</td>\n",
              "      <td>926.854397</td>\n",
              "    </tr>\n",
              "    <tr>\n",
              "      <th>min</th>\n",
              "      <td>0.000000</td>\n",
              "      <td>0.000000</td>\n",
              "    </tr>\n",
              "    <tr>\n",
              "      <th>25%</th>\n",
              "      <td>37.250000</td>\n",
              "      <td>4.000000</td>\n",
              "    </tr>\n",
              "    <tr>\n",
              "      <th>50%</th>\n",
              "      <td>120.000000</td>\n",
              "      <td>15.000000</td>\n",
              "    </tr>\n",
              "    <tr>\n",
              "      <th>75%</th>\n",
              "      <td>328.000000</td>\n",
              "      <td>53.000000</td>\n",
              "    </tr>\n",
              "    <tr>\n",
              "      <th>max</th>\n",
              "      <td>8629.000000</td>\n",
              "      <td>27445.000000</td>\n",
              "    </tr>\n",
              "    <tr>\n",
              "      <th rowspan=\"8\" valign=\"top\">num_lectures</th>\n",
              "      <th>count</th>\n",
              "      <td>310.000000</td>\n",
              "      <td>3362.000000</td>\n",
              "    </tr>\n",
              "    <tr>\n",
              "      <th>mean</th>\n",
              "      <td>21.416129</td>\n",
              "      <td>41.866746</td>\n",
              "    </tr>\n",
              "    <tr>\n",
              "      <th>std</th>\n",
              "      <td>18.322119</td>\n",
              "      <td>52.059119</td>\n",
              "    </tr>\n",
              "    <tr>\n",
              "      <th>min</th>\n",
              "      <td>5.000000</td>\n",
              "      <td>0.000000</td>\n",
              "    </tr>\n",
              "    <tr>\n",
              "      <th>25%</th>\n",
              "      <td>11.000000</td>\n",
              "      <td>15.000000</td>\n",
              "    </tr>\n",
              "    <tr>\n",
              "      <th>50%</th>\n",
              "      <td>17.000000</td>\n",
              "      <td>26.000000</td>\n",
              "    </tr>\n",
              "    <tr>\n",
              "      <th>75%</th>\n",
              "      <td>25.000000</td>\n",
              "      <td>48.000000</td>\n",
              "    </tr>\n",
              "    <tr>\n",
              "      <th>max</th>\n",
              "      <td>145.000000</td>\n",
              "      <td>779.000000</td>\n",
              "    </tr>\n",
              "    <tr>\n",
              "      <th rowspan=\"8\" valign=\"top\">content_duration</th>\n",
              "      <th>count</th>\n",
              "      <td>310.000000</td>\n",
              "      <td>3362.000000</td>\n",
              "    </tr>\n",
              "    <tr>\n",
              "      <th>mean</th>\n",
              "      <td>2.210753</td>\n",
              "      <td>4.271584</td>\n",
              "    </tr>\n",
              "    <tr>\n",
              "      <th>std</th>\n",
              "      <td>2.573445</td>\n",
              "      <td>6.254162</td>\n",
              "    </tr>\n",
              "    <tr>\n",
              "      <th>min</th>\n",
              "      <td>0.500000</td>\n",
              "      <td>0.000000</td>\n",
              "    </tr>\n",
              "    <tr>\n",
              "      <th>25%</th>\n",
              "      <td>1.000000</td>\n",
              "      <td>1.500000</td>\n",
              "    </tr>\n",
              "    <tr>\n",
              "      <th>50%</th>\n",
              "      <td>1.500000</td>\n",
              "      <td>2.500000</td>\n",
              "    </tr>\n",
              "    <tr>\n",
              "      <th>75%</th>\n",
              "      <td>2.500000</td>\n",
              "      <td>4.500000</td>\n",
              "    </tr>\n",
              "    <tr>\n",
              "      <th>max</th>\n",
              "      <td>21.000000</td>\n",
              "      <td>78.500000</td>\n",
              "    </tr>\n",
              "  </tbody>\n",
              "</table>\n",
              "</div>"
            ],
            "text/plain": [
              "is_paid                         False          True \n",
              "price            count     310.000000    3362.000000\n",
              "                 mean        0.000000      72.198096\n",
              "                 std         0.000000      60.239545\n",
              "                 min         0.000000      20.000000\n",
              "                 25%         0.000000      25.000000\n",
              "                 50%         0.000000      50.000000\n",
              "                 75%         0.000000     100.000000\n",
              "                 max         0.000000     200.000000\n",
              "num_subscribers  count     310.000000    3362.000000\n",
              "                 mean    11533.951613    2421.270077\n",
              "                 std     23620.569473    6326.164761\n",
              "                 min         1.000000       0.000000\n",
              "                 25%      2222.250000      90.250000\n",
              "                 50%      4869.500000     736.000000\n",
              "                 75%     10637.500000    2058.250000\n",
              "                 max    268923.000000  121584.000000\n",
              "num_reviews      count     310.000000    3362.000000\n",
              "                 mean      425.929032     131.516359\n",
              "                 std       994.282556     926.854397\n",
              "                 min         0.000000       0.000000\n",
              "                 25%        37.250000       4.000000\n",
              "                 50%       120.000000      15.000000\n",
              "                 75%       328.000000      53.000000\n",
              "                 max      8629.000000   27445.000000\n",
              "num_lectures     count     310.000000    3362.000000\n",
              "                 mean       21.416129      41.866746\n",
              "                 std        18.322119      52.059119\n",
              "                 min         5.000000       0.000000\n",
              "                 25%        11.000000      15.000000\n",
              "                 50%        17.000000      26.000000\n",
              "                 75%        25.000000      48.000000\n",
              "                 max       145.000000     779.000000\n",
              "content_duration count     310.000000    3362.000000\n",
              "                 mean        2.210753       4.271584\n",
              "                 std         2.573445       6.254162\n",
              "                 min         0.500000       0.000000\n",
              "                 25%         1.000000       1.500000\n",
              "                 50%         1.500000       2.500000\n",
              "                 75%         2.500000       4.500000\n",
              "                 max        21.000000      78.500000"
            ]
          },
          "metadata": {},
          "execution_count": 190
        }
      ]
    },
    {
      "cell_type": "code",
      "metadata": {
        "id": "mSTtD15q-Jzm"
      },
      "source": [
        ""
      ],
      "execution_count": null,
      "outputs": []
    }
  ]
}